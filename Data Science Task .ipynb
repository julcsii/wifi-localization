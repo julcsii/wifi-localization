{
 "cells": [
  {
   "cell_type": "markdown",
   "metadata": {},
   "source": [
    "# Task: Wifi Positioning with RSSI Fingerprints\n",
    "You will get a dataset that was gathered by the Minodes team to enable wifi positioning. In this store we installed 145 of our sensors, also called **nodes**. \n",
    "\n",
    "As you walk through the store your phone searches for available wifi networks, by sending probe requests (see 802.11 standard). A part of this probe request is the received signal strength indication (**RSSI**), which has a range between 0db (very strong signal) and -100db (very weak signal). Depending on the distance of your phone to a sensor, the **RSSI** has a different value. In an ideal case one probe request would be perceived by all nodes of the store with different signal strength. In our data processing we collect all this probe requests and aggregate them, so that we have all **RSSI** values for all nodes of one probe request available:\n",
    "\n",
    "A data set might look like this:\n",
    "\n",
    "\n",
    "|  ID             | RSSI value node 1 | RSSI value node 2  | .... | RSSI value node n  | fr_zone_id |\n",
    "| -------------   |-------------      | -----              | -----| -------------------| ------- |\n",
    "| 1               |-70                | -70                | .... |  -70               | 1       |\n",
    "| 2               |-55                | -60                | .... |  -45               | 2       |\n",
    "| 2               |-60                | -60                | .... |  -45               | 2       |\n",
    "| ...             |.......            | ....               | .... | ....               | ..      |\n",
    "\n",
    "Each line of this the table is called a fingerprint, which gives us an indication about the potential location of a person.\n",
    "\n",
    "To locate a person within the store, we separate the store into zones representing compartments of a store. For each of this **zones** we collect reference data, which is stored in the file *training_set.csv* of this exercise.\n",
    "\n",
    "The goal of this task is to use machine learning techniques to predict the correct zones, based on **RSSI** fingerprints. At the end of this task you need to predict the zones of unkown **RSSI** fingerprints stored in the file *test_without_target.csv*. \n",
    "\n",
    "Since we at Minodes love to code, we have done some preparation work, so you can focus on the machine learning.\n",
    "\n",
    "In case you have any questions please contact **alexander.mueller@minodes.com**\n",
    "\n",
    "## Remarks\n",
    "\n",
    "* Please use python 3.x\n",
    "* I suggest using an anaconda python distribution https://www.continuum.io/downloads\n",
    "* The code is tested in python 3.4\n",
    "* Please use pre-existing libraries\n",
    "\n",
    "## Requirements\n",
    "The current versions of:\n",
    "* pandas \n",
    "* numpy"
   ]
  },
  {
   "cell_type": "markdown",
   "metadata": {},
   "source": [
    "## Some imports and a preprocessing routine"
   ]
  },
  {
   "cell_type": "code",
   "execution_count": 1,
   "metadata": {
    "collapsed": true
   },
   "outputs": [],
   "source": [
    "%matplotlib inline\n",
    "\n",
    "import ast\n",
    "import time\n",
    "import random\n",
    "from math import *\n",
    "import pandas as pd\n",
    "import numpy as np\n",
    "from sklearn.feature_extraction import DictVectorizer\n",
    "from sklearn.decomposition import PCA\n",
    "import matplotlib.pyplot as plt\n",
    "from scipy.stats import randint\n",
    "from sklearn import neighbors, tree, svm, linear_model\n",
    "from sklearn.preprocessing import StandardScaler\n",
    "from sklearn.model_selection import train_test_split,RandomizedSearchCV\n",
    "from sklearn.ensemble import RandomForestClassifier\n",
    "from sklearn.metrics import matthews_corrcoef, fbeta_score,classification_report,precision_score, accuracy_score, mean_absolute_error, hamming_loss, make_scorer\n",
    "\n",
    "def preprocess_x_values(x_raw_values):\n",
    "    \"\"\"\n",
    "    A simple preprocessing routine returning a feature vector for the specific fingerprint. \n",
    "    \"\"\"\n",
    "\n",
    "    v = DictVectorizer(sparse=False)\n",
    "    \n",
    "    return v.fit_transform(x_raw_values)"
   ]
  },
  {
   "cell_type": "markdown",
   "metadata": {},
   "source": [
    "### Loading the data"
   ]
  },
  {
   "cell_type": "code",
   "execution_count": 2,
   "metadata": {
    "collapsed": true
   },
   "outputs": [],
   "source": [
    "training_set = pd.read_csv('training_set.csv')"
   ]
  },
  {
   "cell_type": "code",
   "execution_count": 3,
   "metadata": {
    "collapsed": true
   },
   "outputs": [],
   "source": [
    "# Load training data\n",
    "\n",
    "# Parse dictionary of features\n",
    "training_set['values'] =training_set['values'].apply(lambda x:  ast.literal_eval(x))\n",
    "\n",
    "# preparing x and y sets \n",
    "# x are the features of the set\n",
    "# y is the class to be predicted\n",
    "x_raw = training_set['values']\n",
    "y = training_set['fr_zone_id']\n",
    "\n",
    "# preprocess the node dictionary to get feature vectors\n",
    "x_features= preprocess_x_values(x_raw)"
   ]
  },
  {
   "cell_type": "code",
   "execution_count": 4,
   "metadata": {},
   "outputs": [
    {
     "data": {
      "text/plain": [
       "(63134, 137)"
      ]
     },
     "execution_count": 4,
     "metadata": {},
     "output_type": "execute_result"
    }
   ],
   "source": [
    "x_features.shape"
   ]
  },
  {
   "cell_type": "code",
   "execution_count": 5,
   "metadata": {},
   "outputs": [
    {
     "data": {
      "text/plain": [
       "array([[  0.,   0.,   0., ...,   0.,   0.,   0.],\n",
       "       [  0., -75., -71., ...,   0.,   0.,   0.],\n",
       "       [  0.,   0.,   0., ...,   0.,   0.,   0.],\n",
       "       ..., \n",
       "       [  0.,   0.,   0., ..., -75.,   0., -78.],\n",
       "       [-54., -58., -50., ...,   0.,   0.,   0.],\n",
       "       [  0.,   0.,   0., ...,   0.,   0.,   0.]])"
      ]
     },
     "execution_count": 5,
     "metadata": {},
     "output_type": "execute_result"
    }
   ],
   "source": [
    "x_features"
   ]
  },
  {
   "cell_type": "markdown",
   "metadata": {},
   "source": [
    "### Implementation\n",
    "\n",
    "Think about how you validate your model (based on accuracy), what classifier you want to use and how in the end you want to scorce the test set.\n",
    "\n",
    "You need to add only a couple of lines of code to have a basic solution. Do this first and then iterate on it."
   ]
  },
  {
   "cell_type": "markdown",
   "metadata": {},
   "source": [
    "#### Exploring & processing the dataset\n",
    "\n",
    "Observations: \n",
    "- High dimensionality(lots of features and maybe not all relevant)\n",
    "- Too many labels to predict\n",
    "- Lots of 0 values\n",
    "\n",
    "Provided labelled dataset is divided into training and validation data.This way all avaliable data is grouped into:\n",
    "- Training data (50%)\n",
    "- Validation data (25%)\n",
    "- Test data (25%) - unlabelled\n",
    "\n",
    "Dimensionality reduction: \n",
    "- Feature extraction: N/A (Principal component analysis - not useful, the components are barely correlating with the selected relevant features probably due to lack of linearity.)\n",
    "- Feature selection: \n",
    "\t- Features: received signal strength indication (RSSI) of wifi nodes (137)\n",
    "\t- Labels: Compartments of store (96)"
   ]
  },
  {
   "cell_type": "code",
   "execution_count": 4,
   "metadata": {
    "scrolled": false
   },
   "outputs": [
    {
     "data": {
      "text/plain": [
       "63134"
      ]
     },
     "execution_count": 4,
     "metadata": {},
     "output_type": "execute_result"
    }
   ],
   "source": [
    "#train vs validation set\n",
    "x_train, x_valid, y_train, y_valid = train_test_split(x_features, y,  test_size=1/3, shuffle=True, random_state=20)\n",
    "x_train.shape[0]+x_valid.shape[0]"
   ]
  },
  {
   "cell_type": "code",
   "execution_count": null,
   "metadata": {
    "collapsed": true
   },
   "outputs": [],
   "source": [
    "plt.hist(y_train, bins='auto')"
   ]
  },
  {
   "cell_type": "code",
   "execution_count": 5,
   "metadata": {
    "scrolled": true
   },
   "outputs": [
    {
     "data": {
      "text/plain": [
       "(array([   64.,     0.,    57.,    64.,     7.,     0.,     0.,   293.,\n",
       "            0.,     0.,     0.,   841.,  1566.,   432.,     0.,     0.,\n",
       "         1084.,     0.,     0.,     0.,     0.,   944.,     0.,   868.,\n",
       "         1987.,     0.,     0.,     0.,     0.,     0.,   352.,     0.,\n",
       "            0.,   813.,     0.,     0.,     0.,  1493.,  1429.,  1323.,\n",
       "         1469.,  1350.,  1328.,  1432.,  1317.,  1240.,  1131.,  1330.,\n",
       "         1579.,  2390.,  1127.,  1150.,  1129.,  1264.,  1648.,  2307.,\n",
       "         1907.,  1672.,  1726.,  1659.,  1567.,  2625.,  1356.,  1319.,\n",
       "         1174.,  1155.,  1323.,  1446.,  1339.,  1143.,  1439.,  1136.,\n",
       "         1221.,  1119.]),\n",
       " array([  19.        ,   21.08108108,   23.16216216,   25.24324324,\n",
       "          27.32432432,   29.40540541,   31.48648649,   33.56756757,\n",
       "          35.64864865,   37.72972973,   39.81081081,   41.89189189,\n",
       "          43.97297297,   46.05405405,   48.13513514,   50.21621622,\n",
       "          52.2972973 ,   54.37837838,   56.45945946,   58.54054054,\n",
       "          60.62162162,   62.7027027 ,   64.78378378,   66.86486486,\n",
       "          68.94594595,   71.02702703,   73.10810811,   75.18918919,\n",
       "          77.27027027,   79.35135135,   81.43243243,   83.51351351,\n",
       "          85.59459459,   87.67567568,   89.75675676,   91.83783784,\n",
       "          93.91891892,   96.        ,   98.08108108,  100.16216216,\n",
       "         102.24324324,  104.32432432,  106.40540541,  108.48648649,\n",
       "         110.56756757,  112.64864865,  114.72972973,  116.81081081,\n",
       "         118.89189189,  120.97297297,  123.05405405,  125.13513514,\n",
       "         127.21621622,  129.2972973 ,  131.37837838,  133.45945946,\n",
       "         135.54054054,  137.62162162,  139.7027027 ,  141.78378378,\n",
       "         143.86486486,  145.94594595,  148.02702703,  150.10810811,\n",
       "         152.18918919,  154.27027027,  156.35135135,  158.43243243,\n",
       "         160.51351351,  162.59459459,  164.67567568,  166.75675676,\n",
       "         168.83783784,  170.91891892,  173.        ]),\n",
       " <a list of 74 Patch objects>)"
      ]
     },
     "execution_count": 5,
     "metadata": {},
     "output_type": "execute_result"
    },
    {
     "data": {
      "image/png": "[encoded data removed]",
      "text/plain": [
       "<matplotlib.figure.Figure at 0x7f001a727320>"
      ]
     },
     "metadata": {},
     "output_type": "display_data"
    }
   ],
   "source": [
    "#  number of unique zones, distribution of classes\n",
    "z = np.unique(y)\n",
    "#visualization: histogram of zone_id\n",
    "plt.hist(y, bins='auto')"
   ]
  },
  {
   "cell_type": "code",
   "execution_count": 6,
   "metadata": {},
   "outputs": [
    {
     "data": {
      "text/plain": [
       "<matplotlib.collections.PathCollection at 0x7efff5a3f048>"
      ]
     },
     "execution_count": 6,
     "metadata": {},
     "output_type": "execute_result"
    },
    {
     "data": {
      "image/png": "[encoded data removed]",
      "text/plain": [
       "<matplotlib.figure.Figure at 0x7f001a727400>"
      ]
     },
     "metadata": {},
     "output_type": "display_data"
    }
   ],
   "source": [
    "#visualization cont'd: aggregated RSSI for each location\n",
    "z = np.sum(x_train, axis=1)\n",
    "plt.scatter(y_train,z)"
   ]
  },
  {
   "cell_type": "code",
   "execution_count": 7,
   "metadata": {},
   "outputs": [
    {
     "data": {
      "text/plain": [
       "<matplotlib.text.Text at 0x7efff5a3fe80>"
      ]
     },
     "execution_count": 7,
     "metadata": {},
     "output_type": "execute_result"
    },
    {
     "data": {
      "image/png": "[encoded data removed]",
      "text/plain": [
       "<matplotlib.figure.Figure at 0x7efff5d5abe0>"
      ]
     },
     "metadata": {},
     "output_type": "display_data"
    }
   ],
   "source": [
    "#visualization cont'd: scatter plot of fingerprint for first 10 location\n",
    "for i in range(1,10):\n",
    "    plt.scatter(np.arange(1,x_train[i].size+1,1), x_train[i])\n",
    "plt.xlabel('node_id')\n",
    "plt.ylabel('RSSI')\n"
   ]
  },
  {
   "cell_type": "code",
   "execution_count": 8,
   "metadata": {
    "scrolled": true
   },
   "outputs": [
    {
     "data": {
      "text/plain": [
       "<matplotlib.text.Text at 0x7efff5a2f550>"
      ]
     },
     "execution_count": 8,
     "metadata": {},
     "output_type": "execute_result"
    },
    {
     "data": {
      "image/png": "[encoded data removed]",
      "text/plain": [
       "<matplotlib.figure.Figure at 0x7efff5a557f0>"
      ]
     },
     "metadata": {},
     "output_type": "display_data"
    }
   ],
   "source": [
    "#visualization cont'd: scatter plot of RSSI of one node with zone ids\n",
    "plt.scatter(y_train.values, x_train[:,2])\n",
    "plt.xlabel('fr_zone_id')\n",
    "plt.ylabel('RSSI of a given node')"
   ]
  },
  {
   "cell_type": "code",
   "execution_count": 9,
   "metadata": {},
   "outputs": [
    {
     "name": "stdout",
     "output_type": "stream",
     "text": [
      "Explained variance ratio: [ 0.30276857  0.17861406]\n"
     ]
    },
    {
     "data": {
      "text/plain": [
       "<matplotlib.text.Text at 0x7effe952f710>"
      ]
     },
     "execution_count": 9,
     "metadata": {},
     "output_type": "execute_result"
    },
    {
     "data": {
      "image/png": "[encoded data removed]",
      "text/plain": [
       "<matplotlib.figure.Figure at 0x7efff5a90240>"
      ]
     },
     "metadata": {},
     "output_type": "display_data"
    }
   ],
   "source": [
    "#visualization cont'd\n",
    "pca = PCA(n_components=2)\n",
    "X_red = pca.fit(x_train).transform(x_train)\n",
    "print('Explained variance ratio: %s'\n",
    "      % str(pca.explained_variance_ratio_))\n",
    "target_names = y_train.unique()\n",
    "plt.figure()\n",
    "for target_name in target_names:\n",
    "    plt.scatter(X_red[y_train == target_name, 0], X_red[y_train == target_name, 1],\n",
    "                label=target_name)\n",
    "plt.xlabel('component_1')\n",
    "plt.ylabel('component_2')"
   ]
  },
  {
   "cell_type": "code",
   "execution_count": 13,
   "metadata": {},
   "outputs": [
    {
     "name": "stdout",
     "output_type": "stream",
     "text": [
      "Explained variance ratio: [ 0.30276857  0.17861406  0.04888223  0.02355765]\n",
      "Total explained: 0.553822509722\n"
     ]
    }
   ],
   "source": [
    "#dimensionality reduction with PCA -  not really useful due to lack of linearity\n",
    "pca = PCA(n_components=4)\n",
    "X_red = pca.fit(x_train).transform(x_train)\n",
    "\n",
    "target_names = y_train.unique()\n",
    "# Percentage of variance explained for each components\n",
    "print('Explained variance ratio: %s'\n",
    "      % str(pca.explained_variance_ratio_))\n",
    "# Percentage of total variance explained\n",
    "print('Total explained: %s'\n",
    "      % str(sum(pca.explained_variance_ratio_)))\n",
    "# Components\n",
    "#print('Components: %s'\n",
    "#      % str(pca.components_))"
   ]
  },
  {
   "cell_type": "markdown",
   "metadata": {},
   "source": [
    "#### Model training\n",
    "Potential prediction techniques: \n",
    "Naive Bayesian, Nearest neighbour calssification, Decision trees, random forest, SVM (and Neural networks, deep learning techniques)\n",
    "\n",
    "Some drawbacks of the above different models:\n",
    "- Since naive Bayes assumes independence between features, it is not used in this problem. \n",
    "- The class distribution is skewed so the kNN classification might be biased. \n",
    "- Decision trees can be too complex for large datasets and thus not generalizing well, and they are not very robust. \n",
    "- The problem with SVM models is that they tend to break down a multiclass classification to binary classification problems, which in this case is not too scaleable and also SVM can be subject to overfitting. \n",
    "\n",
    "#### Hyper-parameter tuning\n",
    "Due to high dimensionality and large number of labels cross-validation is needed to avoid overfitting. F1 score and accuracy were used as scores to find best hyper-parameters.\n",
    "\n",
    "Grid search with RandomizedSearchCV for faster computation."
   ]
  },
  {
   "cell_type": "code",
   "execution_count": 14,
   "metadata": {
    "collapsed": true
   },
   "outputs": [],
   "source": [
    "scores ={'beta' :make_scorer(fbeta_score, beta=1, average='micro'), 'acc' : 'accuracy'}"
   ]
  },
  {
   "cell_type": "code",
   "execution_count": 15,
   "metadata": {},
   "outputs": [
    {
     "name": "stdout",
     "output_type": "stream",
     "text": [
      "Elapsed time for decision tree: 20.014586925506592\n"
     ]
    },
    {
     "data": {
      "text/plain": [
       "{'criterion': 'gini',\n",
       " 'max_depth': None,\n",
       " 'max_features': 45,\n",
       " 'min_samples_leaf': 3,\n",
       " 'splitter': 'best'}"
      ]
     },
     "execution_count": 15,
     "metadata": {},
     "output_type": "execute_result"
    }
   ],
   "source": [
    "#decision tree learning\n",
    "\n",
    "params_tree = {\"splitter\": [\"best\",\"random\"],\n",
    "              \"max_depth\": [3, None],\n",
    "              \"max_features\": randint(1, 50),\n",
    "              \"min_samples_leaf\": randint(1, 9),\n",
    "              \"criterion\": [\"gini\", \"entropy\"]}\n",
    "start_time = time.time()\n",
    "dtree = tree.DecisionTreeClassifier(random_state=42, class_weight='balanced')\n",
    "clf_tree = RandomizedSearchCV(estimator=dtree, param_distributions=params_tree, n_iter=20, scoring=scores, cv=5, n_jobs=-1, refit='beta')\n",
    "clf_tree = clf_tree.fit(x_train, y_train)\n",
    "pred_tree = clf_tree.predict(x_valid)\n",
    "probs_tree = clf_tree.predict_proba(x_valid)\n",
    "elapsed_time = time.time() - start_time\n",
    "print(\"Elapsed time for decision tree: \" + str(elapsed_time))\n",
    "clf_tree.best_params_"
   ]
  },
  {
   "cell_type": "code",
   "execution_count": 17,
   "metadata": {},
   "outputs": [
    {
     "name": "stdout",
     "output_type": "stream",
     "text": [
      "Elapsed time of random forest: 647.0952951908112\n"
     ]
    },
    {
     "data": {
      "text/plain": [
       "{'bootstrap': True,\n",
       " 'criterion': 'gini',\n",
       " 'max_depth': None,\n",
       " 'max_features': 32,\n",
       " 'min_samples_leaf': 1,\n",
       " 'min_samples_split': 8,\n",
       " 'n_estimators': 52}"
      ]
     },
     "execution_count": 17,
     "metadata": {},
     "output_type": "execute_result"
    }
   ],
   "source": [
    "#random forest - random search\n",
    "params_forest = {\"n_estimators\": randint(5,100),\n",
    "              \"max_depth\": [3, None],\n",
    "              \"max_features\": randint(1, 50),\n",
    "              \"min_samples_split\": randint(2, 30),\n",
    "              \"min_samples_leaf\": randint(1, 30),\n",
    "              \"bootstrap\": [True, False],\n",
    "              \"criterion\": [\"gini\", \"entropy\"]}\n",
    "start_time = time.time()\n",
    "forest = RandomForestClassifier()\n",
    "clf_forest = RandomizedSearchCV(estimator=forest, param_distributions=params_forest, scoring=scores, cv=5, n_iter=20, n_jobs=-1, refit='beta')\n",
    "clf_forest = clf_forest.fit(x_train, y_train)\n",
    "pred_forest = clf_forest.predict(x_valid)\n",
    "probs_forest = clf_forest.predict_proba(x_valid)\n",
    "elapsed_time = time.time() - start_time\n",
    "print(\"Elapsed time of random forest: \" + str(elapsed_time))\n",
    "clf_forest.best_params_"
   ]
  },
  {
   "cell_type": "code",
   "execution_count": 21,
   "metadata": {},
   "outputs": [
    {
     "name": "stdout",
     "output_type": "stream",
     "text": [
      "Elapsed time for knn: 144.17409873008728\n"
     ]
    }
   ],
   "source": [
    "#knn \n",
    "k_neighbors=15\n",
    "start_time = time.time()\n",
    "clf_knn = neighbors.KNeighborsClassifier(k_neighbors, weights='distance', algorithm='kd_tree', leaf_size=35, p=1, n_jobs=-1)\n",
    "clf_knn = clf_knn.fit(x_train, y_train)\n",
    "pred_knn = clf_knn.predict(x_valid)\n",
    "elapsed_time = time.time() - start_time\n",
    "print(\"Elapsed time for knn: \" + str(elapsed_time))\n",
    "#probs_knn = clf_knn.predict_proba(x_valid)"
   ]
  },
  {
   "cell_type": "code",
   "execution_count": 20,
   "metadata": {},
   "outputs": [
    {
     "name": "stderr",
     "output_type": "stream",
     "text": [
      "/home/julcsi/anaconda3/lib/python3.6/site-packages/sklearn/linear_model/stochastic_gradient.py:84: FutureWarning: max_iter and tol parameters have been added in <class 'sklearn.linear_model.stochastic_gradient.SGDClassifier'> in 0.19. If both are left unset, they default to max_iter=5 and tol=None. If tol is not None, max_iter defaults to max_iter=1000. From 0.21, default max_iter will be 1000, and default tol will be 1e-3.\n",
      "  \"and default tol will be 1e-3.\" % type(self), FutureWarning)\n"
     ]
    },
    {
     "name": "stdout",
     "output_type": "stream",
     "text": [
      "Elapsed time for SVM: 556.6410505771637\n"
     ]
    },
    {
     "data": {
      "text/plain": [
       "{'alpha': 0.0001, 'loss': 'hinge', 'penalty': 'l1', 'power_t': 3}"
      ]
     },
     "execution_count": 20,
     "metadata": {},
     "output_type": "execute_result"
    }
   ],
   "source": [
    "scaler = StandardScaler()\n",
    "x_scale = scaler.fit_transform(x_train)\n",
    "#SVM (could not use SVC() or LinearSVC())http://scikit-learn.org/stable/modules/generated/sklearn.linear_model.SGDClassifier.html#sklearn.linear_model.SGDClassifier\n",
    "params_svm = {\"loss\": ['hinge','log', 'perceptron'],\n",
    "              \"alpha\": [0.0001, 0.01, 0.1],\n",
    "              \"penalty\": ['l1','l2', 'elasticnet'],\n",
    "              \"power_t\" : [0.1,1,1.5,3]}\n",
    "start_time = time.time()\n",
    "svc = linear_model.SGDClassifier(random_state=42, class_weight='balanced')\n",
    "clf_svm = RandomizedSearchCV(estimator=svc, param_distributions=params_svm, scoring=scores,n_iter=20, cv=5, n_jobs=-1, refit='beta')\n",
    "clf_svm = clf_svm.fit(x_scale, y_train)\n",
    "elapsed_time = time.time() - start_time\n",
    "print(\"Elapsed time for SVM: \" + str(elapsed_time))\n",
    "pred_svm = clf_svm.predict(x_valid)\n",
    "clf_svm.best_params_"
   ]
  },
  {
   "cell_type": "markdown",
   "metadata": {},
   "source": [
    "#### Model selection\n",
    "Model validation metrics: accuracy, precision, f1 score, recall, Matthews correlation coefficient\n",
    "\n",
    "Accuracy alone is not necesseraly enough when the data is not balanced, like in this case (see histogram of y). Therefore recall, precision and f1 scores are also used. Since these 3 only care for positive labels, Matthews correlation coefficient is also used. \n",
    "\n",
    "From the different algorithms random forest stands out in terms of all metrics. The accuracy is still only around 70%, but if we consider that the number of unique classes is around 90, it is a reasonable number.\n",
    "\n",
    "##### Chosen model with parameter set:\n",
    "Random Forest with beta refit (0.71 accuracy)found with RandomizedSearchCV:\n",
    "\n",
    "\n",
    "{'bootstrap': False,\n",
    " 'criterion': 'gini',\n",
    " 'max_depth': None,\n",
    " 'max_features': 34,\n",
    " 'min_samples_leaf': 6,\n",
    " 'min_samples_split': 10,\n",
    " 'n_estimators': 84}\n"
   ]
  },
  {
   "cell_type": "code",
   "execution_count": 22,
   "metadata": {},
   "outputs": [
    {
     "name": "stdout",
     "output_type": "stream",
     "text": [
      "             precision    recall  f1-score   support\n",
      "\n",
      "         19       0.31      0.80      0.44         5\n",
      "         20       0.12      0.50      0.20         2\n",
      "         21       0.17      0.71      0.27         7\n",
      "         25       0.41      0.44      0.43        27\n",
      "         27       0.33      0.50      0.40        24\n",
      "         29       0.00      0.00      0.00         2\n",
      "         34       0.32      0.43      0.37        44\n",
      "         35       0.34      0.43      0.38        56\n",
      "         42       0.83      0.70      0.76       298\n",
      "         45       0.83      0.72      0.77       290\n",
      "         46       0.93      0.88      0.90       238\n",
      "         47       0.86      0.85      0.85       145\n",
      "         53       0.65      0.54      0.59       392\n",
      "         63       0.31      0.27      0.29       323\n",
      "         68       0.24      0.23      0.23       278\n",
      "         69       0.36      0.52      0.43       168\n",
      "         70       0.36      0.44      0.40       233\n",
      "         71       0.43      0.45      0.44       293\n",
      "         82       0.19      0.38      0.25       112\n",
      "         89       0.78      0.63      0.70       276\n",
      "         97       0.58      0.57      0.57       254\n",
      "         98       0.57      0.58      0.58       228\n",
      "         99       0.69      0.62      0.65       261\n",
      "        100       0.59      0.51      0.55       241\n",
      "        101       0.49      0.53      0.51       224\n",
      "        102       0.40      0.42      0.41       225\n",
      "        103       0.39      0.34      0.36       262\n",
      "        104       0.28      0.28      0.28       213\n",
      "        105       0.19      0.22      0.21       230\n",
      "        106       0.45      0.41      0.43       230\n",
      "        107       0.43      0.45      0.44       234\n",
      "        108       0.37      0.37      0.37       206\n",
      "        109       0.27      0.23      0.25       237\n",
      "        110       0.32      0.34      0.33       227\n",
      "        111       0.38      0.35      0.36       242\n",
      "        112       0.40      0.45      0.42       205\n",
      "        113       0.45      0.45      0.45       217\n",
      "        114       0.38      0.35      0.37       180\n",
      "        115       0.41      0.50      0.45       177\n",
      "        116       0.42      0.53      0.47       198\n",
      "        117       0.44      0.55      0.49       175\n",
      "        118       0.68      0.59      0.63       240\n",
      "        119       0.38      0.35      0.36       256\n",
      "        120       0.33      0.35      0.34       252\n",
      "        121       0.50      0.36      0.42       277\n",
      "        122       0.45      0.37      0.40       324\n",
      "        123       0.48      0.45      0.46       174\n",
      "        124       0.41      0.49      0.45       177\n",
      "        125       0.28      0.35      0.31       188\n",
      "        126       0.28      0.36      0.32       198\n",
      "        127       0.45      0.52      0.49       187\n",
      "        128       0.42      0.53      0.47       199\n",
      "        129       0.42      0.51      0.46       182\n",
      "        130       0.23      0.27      0.25       226\n",
      "        131       0.27      0.32      0.29       196\n",
      "        132       0.40      0.43      0.41       263\n",
      "        133       0.41      0.41      0.41       261\n",
      "        134       0.38      0.27      0.32       466\n",
      "        135       0.43      0.40      0.41       307\n",
      "        136       0.44      0.38      0.41       336\n",
      "        137       0.53      0.50      0.52       278\n",
      "        138       0.39      0.31      0.35       277\n",
      "        139       0.27      0.23      0.25       275\n",
      "        140       0.32      0.26      0.29       309\n",
      "        141       0.31      0.28      0.30       289\n",
      "        142       0.40      0.35      0.37       259\n",
      "        143       0.30      0.25      0.27       263\n",
      "        144       0.36      0.28      0.32       333\n",
      "        145       0.39      0.45      0.42       216\n",
      "        146       0.76      0.60      0.67       641\n",
      "        148       0.24      0.27      0.26       204\n",
      "        149       0.22      0.23      0.23       226\n",
      "        150       0.39      0.42      0.41       214\n",
      "        151       0.32      0.38      0.35       223\n",
      "        152       0.45      0.48      0.46       220\n",
      "        153       0.33      0.43      0.37       195\n",
      "        154       0.30      0.28      0.29       218\n",
      "        155       0.36      0.36      0.36       225\n",
      "        156       0.28      0.35      0.31       175\n",
      "        157       0.47      0.39      0.42       254\n",
      "        158       0.41      0.53      0.46       165\n",
      "        159       0.69      0.56      0.62       326\n",
      "        160       0.39      0.45      0.42       196\n",
      "        161       0.47      0.39      0.42       282\n",
      "        162       0.29      0.35      0.32       174\n",
      "        163       0.38      0.44      0.41       178\n",
      "        164       0.57      0.58      0.57       208\n",
      "        165       0.64      0.63      0.64       220\n",
      "        166       0.68      0.62      0.65       245\n",
      "        167       0.68      0.70      0.69       214\n",
      "        168       0.45      0.52      0.48       172\n",
      "        169       0.48      0.50      0.49       228\n",
      "        170       0.49      0.49      0.49       189\n",
      "        171       0.35      0.46      0.39       171\n",
      "        172       0.28      0.40      0.33       166\n",
      "        173       0.29      0.52      0.38        29\n",
      "\n",
      "avg / total       0.45      0.44      0.44     21045\n",
      "\n",
      "             precision    recall  f1-score   support\n",
      "\n",
      "         19       1.00      0.60      0.75         5\n",
      "         20       1.00      0.50      0.67         2\n",
      "         21       0.83      0.71      0.77         7\n",
      "         25       0.79      0.56      0.65        27\n",
      "         27       0.65      0.83      0.73        24\n",
      "         29       1.00      0.50      0.67         2\n",
      "         34       0.44      0.36      0.40        44\n",
      "         35       0.53      0.52      0.52        56\n",
      "         42       0.87      0.89      0.88       298\n",
      "         45       0.91      0.97      0.94       290\n",
      "         46       0.89      0.97      0.93       238\n",
      "         47       0.92      0.92      0.92       145\n",
      "         53       0.81      0.85      0.83       392\n",
      "         63       0.56      0.46      0.50       323\n",
      "         68       0.58      0.53      0.55       278\n",
      "         69       0.76      0.61      0.67       168\n",
      "         70       0.80      0.57      0.66       233\n",
      "         71       0.73      0.65      0.68       293\n",
      "         82       0.75      0.54      0.63       112\n",
      "         89       0.87      0.88      0.88       276\n",
      "         97       0.80      0.84      0.82       254\n",
      "         98       0.83      0.75      0.79       228\n",
      "         99       0.87      0.81      0.84       261\n",
      "        100       0.86      0.73      0.79       241\n",
      "        101       0.70      0.84      0.77       224\n",
      "        102       0.71      0.76      0.74       225\n",
      "        103       0.62      0.76      0.68       262\n",
      "        104       0.56      0.71      0.62       213\n",
      "        105       0.53      0.38      0.44       230\n",
      "        106       0.63      0.68      0.65       230\n",
      "        107       0.81      0.71      0.76       234\n",
      "        108       0.67      0.53      0.59       206\n",
      "        109       0.52      0.52      0.52       237\n",
      "        110       0.51      0.61      0.56       227\n",
      "        111       0.71      0.50      0.59       242\n",
      "        112       0.88      0.79      0.83       205\n",
      "        113       0.79      0.71      0.75       217\n",
      "        114       0.63      0.75      0.69       180\n",
      "        115       0.77      0.82      0.79       177\n",
      "        116       0.86      0.82      0.84       198\n",
      "        117       0.67      0.88      0.76       175\n",
      "        118       0.92      0.88      0.90       240\n",
      "        119       0.61      0.72      0.66       256\n",
      "        120       0.54      0.67      0.59       252\n",
      "        121       0.74      0.79      0.76       277\n",
      "        122       0.73      0.75      0.74       324\n",
      "        123       0.72      0.79      0.76       174\n",
      "        124       0.63      0.71      0.67       177\n",
      "        125       0.68      0.49      0.57       188\n",
      "        126       0.73      0.54      0.62       198\n",
      "        127       0.72      0.64      0.68       187\n",
      "        128       0.74      0.79      0.76       199\n",
      "        129       0.75      0.73      0.74       182\n",
      "        130       0.61      0.53      0.57       226\n",
      "        131       0.69      0.53      0.60       196\n",
      "        132       0.67      0.75      0.70       263\n",
      "        133       0.62      0.79      0.69       261\n",
      "        134       0.52      0.75      0.62       466\n",
      "        135       0.67      0.67      0.67       307\n",
      "        136       0.59      0.58      0.59       336\n",
      "        137       0.64      0.83      0.72       278\n",
      "        138       0.57      0.62      0.60       277\n",
      "        139       0.53      0.47      0.50       275\n",
      "        140       0.63      0.51      0.57       309\n",
      "        141       0.57      0.66      0.61       289\n",
      "        142       0.60      0.72      0.65       259\n",
      "        143       0.69      0.56      0.62       263\n",
      "        144       0.70      0.64      0.67       333\n",
      "        145       0.79      0.53      0.64       216\n",
      "        146       0.78      0.95      0.86       641\n",
      "        148       0.51      0.53      0.52       204\n",
      "        149       0.61      0.52      0.56       226\n",
      "        150       0.54      0.70      0.61       214\n",
      "        151       0.59      0.52      0.55       223\n",
      "        152       0.75      0.67      0.71       220\n",
      "        153       0.66      0.66      0.66       195\n",
      "        154       0.70      0.56      0.62       218\n",
      "        155       0.78      0.69      0.73       225\n",
      "        156       0.67      0.53      0.59       175\n",
      "        157       0.59      0.77      0.67       254\n",
      "        158       0.76      0.75      0.76       165\n",
      "        159       0.78      0.75      0.77       326\n",
      "        160       0.68      0.77      0.72       196\n",
      "        161       0.79      0.72      0.75       282\n",
      "        162       0.62      0.53      0.57       174\n",
      "        163       0.67      0.63      0.65       178\n",
      "        164       0.83      0.82      0.83       208\n",
      "        165       0.88      0.82      0.85       220\n",
      "        166       0.84      0.85      0.84       245\n",
      "        167       0.93      0.80      0.86       214\n",
      "        168       0.76      0.68      0.72       172\n",
      "        169       0.74      0.71      0.73       228\n",
      "        170       0.82      0.80      0.81       189\n",
      "        171       0.67      0.67      0.67       171\n",
      "        172       0.63      0.55      0.59       166\n",
      "        173       0.62      0.52      0.57        29\n",
      "\n",
      "avg / total       0.70      0.70      0.70     21045\n",
      "\n",
      "             precision    recall  f1-score   support\n",
      "\n",
      "         19       1.00      0.40      0.57         5\n",
      "         20       1.00      0.50      0.67         2\n",
      "         21       1.00      0.57      0.73         7\n",
      "         25       0.67      0.37      0.48        27\n",
      "         27       0.60      0.62      0.61        24\n",
      "         29       0.00      0.00      0.00         2\n",
      "         34       0.40      0.18      0.25        44\n",
      "         35       0.41      0.48      0.44        56\n",
      "         42       0.78      0.71      0.74       298\n",
      "         45       0.84      0.79      0.81       290\n",
      "         46       0.75      0.90      0.82       238\n",
      "         47       0.86      0.94      0.89       145\n",
      "         53       0.75      0.68      0.71       392\n",
      "         63       0.48      0.46      0.47       323\n",
      "         68       0.47      0.42      0.44       278\n",
      "         69       0.65      0.28      0.39       168\n",
      "         70       0.69      0.39      0.50       233\n",
      "         71       0.66      0.49      0.56       293\n",
      "         82       0.65      0.43      0.52       112\n",
      "         89       0.78      0.78      0.78       276\n",
      "         97       0.66      0.67      0.66       254\n",
      "         98       0.73      0.60      0.66       228\n",
      "         99       0.67      0.78      0.72       261\n",
      "        100       0.75      0.73      0.74       241\n",
      "        101       0.64      0.52      0.58       224\n",
      "        102       0.51      0.63      0.56       225\n",
      "        103       0.55      0.58      0.57       262\n",
      "        104       0.47      0.53      0.50       213\n",
      "        105       0.45      0.30      0.36       230\n",
      "        106       0.46      0.69      0.55       230\n",
      "        107       0.76      0.42      0.54       234\n",
      "        108       0.48      0.52      0.50       206\n",
      "        109       0.43      0.43      0.43       237\n",
      "        110       0.43      0.50      0.46       227\n",
      "        111       0.57      0.36      0.44       242\n",
      "        112       0.71      0.64      0.67       205\n",
      "        113       0.61      0.60      0.61       217\n",
      "        114       0.49      0.59      0.53       180\n",
      "        115       0.55      0.69      0.61       177\n",
      "        116       0.74      0.66      0.70       198\n",
      "        117       0.52      0.71      0.60       175\n",
      "        118       0.85      0.70      0.77       240\n",
      "        119       0.42      0.53      0.47       256\n",
      "        120       0.38      0.44      0.41       252\n",
      "        121       0.64      0.66      0.65       277\n",
      "        122       0.60      0.64      0.62       324\n",
      "        123       0.55      0.60      0.57       174\n",
      "        124       0.51      0.55      0.53       177\n",
      "        125       0.47      0.37      0.42       188\n",
      "        126       0.59      0.34      0.43       198\n",
      "        127       0.60      0.48      0.53       187\n",
      "        128       0.63      0.55      0.59       199\n",
      "        129       0.49      0.67      0.57       182\n",
      "        130       0.53      0.41      0.46       226\n",
      "        131       0.60      0.40      0.48       196\n",
      "        132       0.61      0.60      0.61       263\n",
      "        133       0.48      0.69      0.57       261\n",
      "        134       0.47      0.68      0.56       466\n",
      "        135       0.53      0.56      0.54       307\n",
      "        136       0.47      0.56      0.51       336\n",
      "        137       0.58      0.66      0.62       278\n",
      "        138       0.45      0.36      0.40       277\n",
      "        139       0.41      0.49      0.45       275\n",
      "        140       0.46      0.40      0.43       309\n",
      "        141       0.50      0.49      0.50       289\n",
      "        142       0.53      0.61      0.56       259\n",
      "        143       0.56      0.35      0.43       263\n",
      "        144       0.57      0.57      0.57       333\n",
      "        145       0.49      0.38      0.42       216\n",
      "        146       0.65      0.94      0.77       641\n",
      "        148       0.41      0.38      0.39       204\n",
      "        149       0.48      0.50      0.49       226\n",
      "        150       0.43      0.57      0.49       214\n",
      "        151       0.47      0.42      0.44       223\n",
      "        152       0.58      0.58      0.58       220\n",
      "        153       0.39      0.49      0.43       195\n",
      "        154       0.49      0.31      0.38       218\n",
      "        155       0.68      0.46      0.55       225\n",
      "        156       0.54      0.47      0.50       175\n",
      "        157       0.54      0.63      0.58       254\n",
      "        158       0.65      0.58      0.61       165\n",
      "        159       0.62      0.61      0.61       326\n",
      "        160       0.53      0.55      0.54       196\n",
      "        161       0.79      0.54      0.64       282\n",
      "        162       0.50      0.52      0.51       174\n",
      "        163       0.55      0.57      0.56       178\n",
      "        164       0.64      0.65      0.65       208\n",
      "        165       0.67      0.71      0.69       220\n",
      "        166       0.67      0.80      0.72       245\n",
      "        167       0.78      0.69      0.73       214\n",
      "        168       0.53      0.34      0.41       172\n",
      "        169       0.56      0.62      0.59       228\n",
      "        170       0.69      0.74      0.71       189\n",
      "        171       0.52      0.53      0.52       171\n",
      "        172       0.45      0.55      0.50       166\n",
      "        173       0.39      0.38      0.39        29\n",
      "\n",
      "avg / total       0.58      0.57      0.57     21045\n",
      "\n",
      "             precision    recall  f1-score   support\n",
      "\n",
      "         19       0.03      0.80      0.05         5\n",
      "         20       0.00      1.00      0.01         2\n",
      "         21       0.01      0.71      0.03         7\n",
      "         25       0.06      0.70      0.12        27\n",
      "         27       0.00      0.00      0.00        24\n",
      "         29       0.00      1.00      0.00         2\n",
      "         34       0.09      0.05      0.06        44\n",
      "         35       0.00      0.00      0.00        56\n",
      "         42       0.46      0.30      0.36       298\n",
      "         45       0.58      0.51      0.54       290\n",
      "         46       0.74      0.15      0.25       238\n",
      "         47       0.54      0.73      0.62       145\n",
      "         53       0.86      0.12      0.22       392\n",
      "         63       0.00      0.00      0.00       323\n",
      "         68       0.33      0.01      0.02       278\n",
      "         69       0.46      0.35      0.39       168\n",
      "         70       0.41      0.30      0.35       233\n",
      "         71       0.22      0.35      0.27       293\n",
      "         82       0.14      0.29      0.19       112\n",
      "         89       0.37      0.65      0.47       276\n",
      "         97       0.27      0.58      0.37       254\n",
      "         98       0.29      0.60      0.39       228\n",
      "         99       0.57      0.56      0.56       261\n",
      "        100       0.68      0.34      0.45       241\n",
      "        101       0.73      0.16      0.26       224\n",
      "        102       0.66      0.17      0.27       225\n",
      "        103       0.71      0.02      0.04       262\n",
      "        104       0.52      0.16      0.25       213\n",
      "        105       1.00      0.01      0.02       230\n",
      "        106       0.46      0.13      0.20       230\n",
      "        107       0.15      0.76      0.25       234\n",
      "        108       0.35      0.07      0.12       206\n",
      "        109       0.60      0.01      0.02       237\n",
      "        110       0.25      0.00      0.01       227\n",
      "        111       0.28      0.05      0.08       242\n",
      "        112       0.33      0.65      0.44       205\n",
      "        113       0.41      0.53      0.46       217\n",
      "        114       0.37      0.22      0.28       180\n",
      "        115       0.47      0.46      0.46       177\n",
      "        116       0.43      0.62      0.50       198\n",
      "        117       0.51      0.46      0.48       175\n",
      "        118       0.38      0.65      0.48       240\n",
      "        119       0.37      0.15      0.21       256\n",
      "        120       0.50      0.04      0.07       252\n",
      "        121       0.25      0.81      0.38       277\n",
      "        122       0.36      0.50      0.42       324\n",
      "        123       0.52      0.28      0.36       174\n",
      "        124       0.31      0.24      0.27       177\n",
      "        125       0.11      0.04      0.06       188\n",
      "        126       0.27      0.13      0.17       198\n",
      "        127       0.48      0.07      0.13       187\n",
      "        128       0.64      0.08      0.14       199\n",
      "        129       0.65      0.09      0.16       182\n",
      "        130       0.00      0.00      0.00       226\n",
      "        131       0.44      0.09      0.15       196\n",
      "        132       0.71      0.04      0.07       263\n",
      "        133       0.53      0.10      0.16       261\n",
      "        134       0.67      0.00      0.01       466\n",
      "        135       0.50      0.00      0.01       307\n",
      "        136       0.00      0.00      0.00       336\n",
      "        137       0.42      0.28      0.34       278\n",
      "        138       0.23      0.22      0.23       277\n",
      "        139       0.13      0.14      0.13       275\n",
      "        140       0.24      0.04      0.07       309\n",
      "        141       0.41      0.32      0.36       289\n",
      "        142       0.43      0.20      0.27       259\n",
      "        143       0.40      0.24      0.30       263\n",
      "        144       0.64      0.17      0.26       333\n",
      "        145       0.00      0.00      0.00       216\n",
      "        146       0.00      0.00      0.00       641\n",
      "        148       0.26      0.15      0.19       204\n",
      "        149       0.17      0.02      0.04       226\n",
      "        150       0.20      0.13      0.16       214\n",
      "        151       0.33      0.01      0.03       223\n",
      "        152       0.38      0.20      0.27       220\n",
      "        153       0.23      0.22      0.22       195\n",
      "        154       0.36      0.14      0.20       218\n",
      "        155       0.14      0.25      0.18       225\n",
      "        156       0.28      0.09      0.13       175\n",
      "        157       0.35      0.38      0.36       254\n",
      "        158       0.23      0.64      0.33       165\n",
      "        159       0.30      0.66      0.42       326\n",
      "        160       0.62      0.05      0.09       196\n",
      "        161       0.29      0.54      0.38       282\n",
      "        162       0.25      0.02      0.03       174\n",
      "        163       0.42      0.23      0.30       178\n",
      "        164       0.33      0.45      0.38       208\n",
      "        165       0.22      0.80      0.34       220\n",
      "        166       0.54      0.51      0.53       245\n",
      "        167       0.38      0.57      0.45       214\n",
      "        168       0.31      0.36      0.33       172\n",
      "        169       0.33      0.00      0.01       228\n",
      "        170       0.47      0.50      0.48       189\n",
      "        171       0.50      0.14      0.22       171\n",
      "        172       0.55      0.04      0.07       166\n",
      "        173       0.08      1.00      0.15        29\n",
      "\n",
      "avg / total       0.39      0.25      0.23     21045\n",
      "\n"
     ]
    },
    {
     "name": "stderr",
     "output_type": "stream",
     "text": [
      "/home/julcsi/anaconda3/lib/python3.6/site-packages/sklearn/metrics/classification.py:1135: UndefinedMetricWarning: Precision and F-score are ill-defined and being set to 0.0 in labels with no predicted samples.\n",
      "  'precision', 'predicted', average, warn_for)\n"
     ]
    }
   ],
   "source": [
    "#validation report(precision, recall, f1, support)\n",
    "cr_tree = classification_report(y_valid, pred_tree)\n",
    "cr_forest = classification_report(y_valid, pred_forest)\n",
    "cr_knn = classification_report(y_valid, pred_knn)\n",
    "cr_svm = classification_report(y_valid, pred_svm)\n",
    "\n",
    "reports = [cr_tree, cr_forest, cr_knn, cr_svm]\n",
    "for report in reports:    \n",
    "    print(report)"
   ]
  },
  {
   "cell_type": "code",
   "execution_count": 24,
   "metadata": {
    "scrolled": true
   },
   "outputs": [
    {
     "name": "stdout",
     "output_type": "stream",
     "text": [
      "0.435827987646\n",
      "0.699073414113\n",
      "0.571727251129\n",
      "0.248277500594\n"
     ]
    }
   ],
   "source": [
    "#accuracy\n",
    "acs_tree = accuracy_score(y_valid, pred_tree)\n",
    "acs_forest = accuracy_score(y_valid, pred_forest)\n",
    "acs_knn = accuracy_score(y_valid, pred_knn)\n",
    "acs_svm = accuracy_score(y_valid, pred_svm)\n",
    "\n",
    "acses = [acs_tree, acs_forest, acs_knn, acs_svm]\n",
    "for acs in acses:    \n",
    "    print(acs)\n"
   ]
  },
  {
   "cell_type": "code",
   "execution_count": 25,
   "metadata": {},
   "outputs": [
    {
     "name": "stdout",
     "output_type": "stream",
     "text": [
      "0.429212834844\n",
      "0.695390053769\n",
      "0.566449494173\n",
      "0.246919873003\n"
     ]
    }
   ],
   "source": [
    "#Matthews correlation coefficient\n",
    "mcc_tree = matthews_corrcoef(y_valid, pred_tree)\n",
    "mcc_forest = matthews_corrcoef(y_valid, pred_forest)\n",
    "mcc_knn = matthews_corrcoef(y_valid, pred_knn)\n",
    "mcc_svm = matthews_corrcoef(y_valid, pred_svm)\n",
    "\n",
    "mccs = [mcc_tree, mcc_forest, mcc_knn, mcc_svm]\n",
    "for mcc in mccs:    \n",
    "    print(mcc)"
   ]
  },
  {
   "cell_type": "markdown",
   "metadata": {},
   "source": [
    "### Predict and unkown dataset"
   ]
  },
  {
   "cell_type": "code",
   "execution_count": 28,
   "metadata": {
    "collapsed": true
   },
   "outputs": [],
   "source": [
    "test_set = pd.read_csv('test_without_target.csv',index_col='id')\n",
    "test_set['values'] = test_set['values'].apply(lambda x:  ast.literal_eval(x))\n",
    "x_test= preprocess_x_values(test_set['values'])"
   ]
  },
  {
   "cell_type": "code",
   "execution_count": 32,
   "metadata": {
    "scrolled": true
   },
   "outputs": [],
   "source": [
    "# {'bootstrap': False, 'criterion': 'gini', 'max_depth': None, 'max_features': 34, 'min_samples_leaf': 6, 'min_samples_split': 10, 'n_estimators': 84}\n",
    "\n",
    "best_forest = RandomForestClassifier(bootstrap=False, criterion='gini', max_features=34, min_samples_leaf=6, min_samples_split=10, n_estimators=84)\n",
    "clf_best_forest = best_forest.fit(x_train, y_train)"
   ]
  },
  {
   "cell_type": "code",
   "execution_count": 34,
   "metadata": {},
   "outputs": [],
   "source": [
    "pred_best_forest = clf_best_forest.predict(x_test)\n",
    "probs__best_forest = clf_best_forest.predict_proba(x_test)"
   ]
  },
  {
   "cell_type": "markdown",
   "metadata": {},
   "source": [
    "### Submit your solution\n",
    "Please zip the complete folder with your solution and send it back to **alexander.mueller@minodes.com**. We will review it as soon as possible and will come back to you!"
   ]
  }
 ],
 "metadata": {
  "kernelspec": {
   "display_name": "Python 3",
   "language": "python",
   "name": "python3"
  },
  "language_info": {
   "codemirror_mode": {
    "name": "ipython",
    "version": 3
   },
   "file_extension": ".py",
   "mimetype": "text/x-python",
   "name": "python",
   "nbconvert_exporter": "python",
   "pygments_lexer": "ipython3",
   "version": "3.6.2"
  }
 },
 "nbformat": 4,
 "nbformat_minor": 1
}
