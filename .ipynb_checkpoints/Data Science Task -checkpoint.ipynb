{
 "cells": [
  {
   "cell_type": "markdown",
   "metadata": {},
   "source": [
    "# Task: Wifi Positioning with RSSI Fingerprints\n",
    "You will get a dataset that was gathered by the Minodes team to enable wifi positioning. In this store we installed 145 of our sensors, also called **nodes**. \n",
    "\n",
    "As you walk through the store your phone searches for available wifi networks, by sending probe requests (see 802.11 standard). A part of this probe request is the received signal strength indication (**RSSI**), which has a range between 0db (very strong signal) and -100db (very weak signal). Depending on the distance of your phone to a sensor, the **RSSI** has a different value. In an ideal case one probe request would be perceived by all nodes of the store with different signal strength. In our data processing we collect all this probe requests and aggregate them, so that we have all **RSSI** values for all nodes of one probe request available:\n",
    "\n",
    "A data set might look like this:\n",
    "\n",
    "\n",
    "|  ID             | RSSI value node 1 | RSSI value node 2  | .... | RSSI value node n  | fr_zone_id |\n",
    "| -------------   |-------------      | -----              | -----| -------------------| ------- |\n",
    "| 1               |-70                | -70                | .... |  -70               | 1       |\n",
    "| 2               |-55                | -60                | .... |  -45               | 2       |\n",
    "| 2               |-60                | -60                | .... |  -45               | 2       |\n",
    "| ...             |.......            | ....               | .... | ....               | ..      |\n",
    "\n",
    "Each line of this the table is called a fingerprint, which gives us an indication about the potential location of a person.\n",
    "\n",
    "To locate a person within the store, we separate the store into zones representing compartments of a store. For each of this **zones** we collect reference data, which is stored in the file *training_set.csv* of this exercise.\n",
    "\n",
    "The goal of this task is to use machine learning techniques to predict the correct zones, based on **RSSI** fingerprints. At the end of this task you need to predict the zones of unkown **RSSI** fingerprints stored in the file *test_without_target.csv*. \n",
    "\n",
    "Since we at Minodes love to code, we have done some preparation work, so you can focus on the machine learning.\n",
    "\n",
    "In case you have any questions please contact **alexander.mueller@minodes.com**\n",
    "\n",
    "## Remarks\n",
    "\n",
    "* Please use python 3.x\n",
    "* I suggest using an anaconda python distribution https://www.continuum.io/downloads\n",
    "* The code is tested in python 3.4\n",
    "* Please use pre-existing libraries\n",
    "\n",
    "## Requirements\n",
    "The current versions of:\n",
    "* pandas \n",
    "* numpy"
   ]
  },
  {
   "cell_type": "markdown",
   "metadata": {},
   "source": [
    "## Some imports and a preprocessing routine"
   ]
  },
  {
   "cell_type": "code",
   "execution_count": 32,
   "metadata": {
    "collapsed": true
   },
   "outputs": [],
   "source": [
    "%matplotlib inline\n",
    "\n",
    "import ast\n",
    "import time\n",
    "from math import *\n",
    "import pandas as pd\n",
    "import numpy as np\n",
    "from sklearn.feature_extraction import DictVectorizer\n",
    "from sklearn.decomposition import PCA\n",
    "import matplotlib.pyplot as plt\n",
    "from mpl_toolkits.mplot3d import Axes3D\n",
    "from sklearn import neighbors, tree, svm\n",
    "from sklearn.feature_selection import SelectKBest, chi2\n",
    "from sklearn.model_selection import train_test_split\n",
    "from sklearn.ensemble import RandomForestClassifier\n",
    "from sklearn.metrics import classification_report, accuracy_score, mean_absolute_error, hamming_loss, confusion_matrix\n",
    "\n",
    "def preprocess_x_values(x_raw_values):\n",
    "    \"\"\"\n",
    "    A simple preprocessing routine returning a feature vector for the specific fingerprint. \n",
    "    \"\"\"\n",
    "\n",
    "    v = DictVectorizer(sparse=False)\n",
    "    \n",
    "    return v.fit_transform(x_raw_values)"
   ]
  },
  {
   "cell_type": "markdown",
   "metadata": {},
   "source": [
    "### Loading the data"
   ]
  },
  {
   "cell_type": "code",
   "execution_count": 4,
   "metadata": {
    "collapsed": true
   },
   "outputs": [],
   "source": [
    "training_set = pd.read_csv('training_set.csv')"
   ]
  },
  {
   "cell_type": "code",
   "execution_count": 5,
   "metadata": {
    "collapsed": true
   },
   "outputs": [],
   "source": [
    "# Load training data\n",
    "\n",
    "# Parse dictionary of features\n",
    "training_set['values'] =training_set['values'].apply(lambda x:  ast.literal_eval(x))\n",
    "\n",
    "# preparing x and y sets \n",
    "# x are the features of the set\n",
    "# y is the class to be predicted\n",
    "x_raw = training_set['values']\n",
    "y = training_set['fr_zone_id']\n",
    "\n",
    "# preprocess the node dictionary to get feature vectors\n",
    "x_features= preprocess_x_values(x_raw)"
   ]
  },
  {
   "cell_type": "code",
   "execution_count": 6,
   "metadata": {},
   "outputs": [
    {
     "data": {
      "text/plain": [
       "(63134, 137)"
      ]
     },
     "execution_count": 6,
     "metadata": {},
     "output_type": "execute_result"
    }
   ],
   "source": [
    "x_features.shape"
   ]
  },
  {
   "cell_type": "code",
   "execution_count": 7,
   "metadata": {},
   "outputs": [
    {
     "data": {
      "text/plain": [
       "array([[  0.,   0.,   0., ...,   0.,   0.,   0.],\n",
       "       [  0., -75., -71., ...,   0.,   0.,   0.],\n",
       "       [  0.,   0.,   0., ...,   0.,   0.,   0.],\n",
       "       ..., \n",
       "       [  0.,   0.,   0., ..., -75.,   0., -78.],\n",
       "       [-54., -58., -50., ...,   0.,   0.,   0.],\n",
       "       [  0.,   0.,   0., ...,   0.,   0.,   0.]])"
      ]
     },
     "execution_count": 7,
     "metadata": {},
     "output_type": "execute_result"
    }
   ],
   "source": [
    "x_features"
   ]
  },
  {
   "cell_type": "markdown",
   "metadata": {},
   "source": [
    "### Implementation\n",
    "\n",
    "Think about how you validate your model (based on accuracy), what classifier you want to use and how in the end you want to scorce the test set.\n",
    "\n",
    "You need to add only a couple of lines of code to have a basic solution. Do this first and then iterate on it."
   ]
  },
  {
   "cell_type": "markdown",
   "metadata": {},
   "source": [
    "#### Exploring & processing the dataset\n",
    "\n",
    "Observations: \n",
    "- High dimensionality(lots of features and maybe not all relevant)\n",
    "- Too many labels to predict\n",
    "- Lots of 0 values\n",
    "\n",
    "Provided labelled dataset is divided into training and validation data.This way all avaliable data is grouped into:\n",
    "- Training data (50%)\n",
    "- Validation data (25%)\n",
    "- Test data (25%) - unlabelled\n",
    "\n",
    "Dimensionality reduction: \n",
    "- Feature extraction: - (Principal component analysis - not useful, the components are barely correlating with the selected relevant features probably due to lack of linearity.)\n",
    "- Feature selection: \n",
    "\t- Features: received signal strength indication (RSSI) of wifi nodes (137) (from which we select ???? most relevant features with sklearn.feature_selection.SelectKBest)??????????????????????\n",
    "\t- Labels: Compartments of store (96)"
   ]
  },
  {
   "cell_type": "code",
   "execution_count": 14,
   "metadata": {
    "scrolled": true
   },
   "outputs": [
    {
     "data": {
      "text/plain": [
       "63134"
      ]
     },
     "execution_count": 14,
     "metadata": {},
     "output_type": "execute_result"
    }
   ],
   "source": [
    "#train vs validation set - maybe not needed as cross validation is included \n",
    "np.random.seed(42)\n",
    "train_rows = np.random.randint(0,x_features.shape[0],round(x_features.shape[0]*(2/3)))\n",
    "x_train, x_valid, y_train, y_valid = train_test_split(x_features, y,  test_size=1/3)\n",
    "x_train.shape[0]+x_valid.shape[0]"
   ]
  },
  {
   "cell_type": "code",
   "execution_count": 9,
   "metadata": {},
   "outputs": [
    {
     "ename": "NameError",
     "evalue": "name 'x_train' is not defined",
     "output_type": "error",
     "traceback": [
      "\u001b[0;31m---------------------------------------------------------------------------\u001b[0m",
      "\u001b[0;31mNameError\u001b[0m                                 Traceback (most recent call last)",
      "\u001b[0;32m<ipython-input-9-d9c4a30b9736>\u001b[0m in \u001b[0;36m<module>\u001b[0;34m()\u001b[0m\n\u001b[1;32m      1\u001b[0m \u001b[0;31m#how many features could I choose based on training data?\u001b[0m\u001b[0;34m\u001b[0m\u001b[0;34m\u001b[0m\u001b[0m\n\u001b[0;32m----> 2\u001b[0;31m \u001b[0mlog10\u001b[0m\u001b[0;34m(\u001b[0m\u001b[0mx_train\u001b[0m\u001b[0;34m.\u001b[0m\u001b[0mshape\u001b[0m\u001b[0;34m[\u001b[0m\u001b[0;36m0\u001b[0m\u001b[0;34m]\u001b[0m\u001b[0;34m)\u001b[0m\u001b[0;34m\u001b[0m\u001b[0m\n\u001b[0m",
      "\u001b[0;31mNameError\u001b[0m: name 'x_train' is not defined"
     ]
    }
   ],
   "source": [
    "#how many features could I choose based on training data?\n",
    "log10(x_train.shape[0])"
   ]
  },
  {
   "cell_type": "code",
   "execution_count": 10,
   "metadata": {
    "scrolled": true
   },
   "outputs": [
    {
     "data": {
      "text/plain": [
       "(array([   64.,     0.,    57.,    64.,     7.,     0.,     0.,   293.,\n",
       "            0.,     0.,     0.,   841.,  1566.,   432.,     0.,     0.,\n",
       "         1084.,     0.,     0.,     0.,     0.,   944.,     0.,   868.,\n",
       "         1987.,     0.,     0.,     0.,     0.,     0.,   352.,     0.,\n",
       "            0.,   813.,     0.,     0.,     0.,  1493.,  1429.,  1323.,\n",
       "         1469.,  1350.,  1328.,  1432.,  1317.,  1240.,  1131.,  1330.,\n",
       "         1579.,  2390.,  1127.,  1150.,  1129.,  1264.,  1648.,  2307.,\n",
       "         1907.,  1672.,  1726.,  1659.,  1567.,  2625.,  1356.,  1319.,\n",
       "         1174.,  1155.,  1323.,  1446.,  1339.,  1143.,  1439.,  1136.,\n",
       "         1221.,  1119.]),\n",
       " array([  19.        ,   21.08108108,   23.16216216,   25.24324324,\n",
       "          27.32432432,   29.40540541,   31.48648649,   33.56756757,\n",
       "          35.64864865,   37.72972973,   39.81081081,   41.89189189,\n",
       "          43.97297297,   46.05405405,   48.13513514,   50.21621622,\n",
       "          52.2972973 ,   54.37837838,   56.45945946,   58.54054054,\n",
       "          60.62162162,   62.7027027 ,   64.78378378,   66.86486486,\n",
       "          68.94594595,   71.02702703,   73.10810811,   75.18918919,\n",
       "          77.27027027,   79.35135135,   81.43243243,   83.51351351,\n",
       "          85.59459459,   87.67567568,   89.75675676,   91.83783784,\n",
       "          93.91891892,   96.        ,   98.08108108,  100.16216216,\n",
       "         102.24324324,  104.32432432,  106.40540541,  108.48648649,\n",
       "         110.56756757,  112.64864865,  114.72972973,  116.81081081,\n",
       "         118.89189189,  120.97297297,  123.05405405,  125.13513514,\n",
       "         127.21621622,  129.2972973 ,  131.37837838,  133.45945946,\n",
       "         135.54054054,  137.62162162,  139.7027027 ,  141.78378378,\n",
       "         143.86486486,  145.94594595,  148.02702703,  150.10810811,\n",
       "         152.18918919,  154.27027027,  156.35135135,  158.43243243,\n",
       "         160.51351351,  162.59459459,  164.67567568,  166.75675676,\n",
       "         168.83783784,  170.91891892,  173.        ]),\n",
       " <a list of 74 Patch objects>)"
      ]
     },
     "execution_count": 10,
     "metadata": {},
     "output_type": "execute_result"
    },
    {
     "data": {
      "image/png": "[encoded data removed]",
      "text/plain": [
       "<matplotlib.figure.Figure at 0x7fdfa3fe4b38>"
      ]
     },
     "metadata": {},
     "output_type": "display_data"
    }
   ],
   "source": [
    "#  number of unique zones, distribution of classes\n",
    "z = np.unique(y)\n",
    "#visualization: histogram of zone_id\n",
    "plt.hist(y, bins='auto')"
   ]
  },
  {
   "cell_type": "code",
   "execution_count": 9,
   "metadata": {},
   "outputs": [
    {
     "data": {
      "text/plain": [
       "<matplotlib.collections.PathCollection at 0x7f979247bba8>"
      ]
     },
     "execution_count": 9,
     "metadata": {},
     "output_type": "execute_result"
    },
    {
     "data": {
      "image/png": "[encoded data removed]",
      "text/plain": [
       "<matplotlib.figure.Figure at 0x7f9792727978>"
      ]
     },
     "metadata": {},
     "output_type": "display_data"
    }
   ],
   "source": [
    "#visualization cont'd: aggregated RSSI for each location\n",
    "z = np.sum(x_train, axis=1)\n",
    "plt.scatter(y_train,z)"
   ]
  },
  {
   "cell_type": "code",
   "execution_count": 10,
   "metadata": {},
   "outputs": [
    {
     "data": {
      "text/plain": [
       "<matplotlib.text.Text at 0x7f979241b748>"
      ]
     },
     "execution_count": 10,
     "metadata": {},
     "output_type": "execute_result"
    },
    {
     "data": {
      "image/png": "[encoded data removed]",
      "text/plain": [
       "<matplotlib.figure.Figure at 0x7f97926e2588>"
      ]
     },
     "metadata": {},
     "output_type": "display_data"
    }
   ],
   "source": [
    "#visualization cont'd: scatter plot of fingerprint for first 10 location\n",
    "for i in range(1,10):\n",
    "    plt.scatter(np.arange(1,x_train[i].size+1,1), x_train[i])\n",
    "plt.xlabel('node_id')\n",
    "plt.ylabel('RSSI')\n"
   ]
  },
  {
   "cell_type": "code",
   "execution_count": 11,
   "metadata": {},
   "outputs": [
    {
     "data": {
      "text/plain": [
       "<matplotlib.text.Text at 0x7f97923f2e80>"
      ]
     },
     "execution_count": 11,
     "metadata": {},
     "output_type": "execute_result"
    },
    {
     "data": {
      "image/png": "[encoded data removed]",
      "text/plain": [
       "<matplotlib.figure.Figure at 0x7f9792319710>"
      ]
     },
     "metadata": {},
     "output_type": "display_data"
    }
   ],
   "source": [
    "#visualization cont'd: scatter plot of RSSI of one node with zone ids\n",
    "plt.scatter(y_train.values, x_train[:,2])\n",
    "plt.xlabel('fr_zone_id')\n",
    "plt.ylabel('RSSI of a given node')"
   ]
  },
  {
   "cell_type": "code",
   "execution_count": 12,
   "metadata": {},
   "outputs": [
    {
     "name": "stdout",
     "output_type": "stream",
     "text": [
      "Explained variance ratio: [ 0.30378816  0.17875306]\n"
     ]
    },
    {
     "data": {
      "text/plain": [
       "<matplotlib.text.Text at 0x7f97922ee2b0>"
      ]
     },
     "execution_count": 12,
     "metadata": {},
     "output_type": "execute_result"
    },
    {
     "data": {
      "image/png": "[encoded data removed]",
      "text/plain": [
       "<matplotlib.figure.Figure at 0x7f9792697eb8>"
      ]
     },
     "metadata": {},
     "output_type": "display_data"
    }
   ],
   "source": [
    "#visualization cont'd\n",
    "pca = PCA(n_components=2)\n",
    "X_red = pca.fit(x_train).transform(x_train)\n",
    "print('Explained variance ratio: %s'\n",
    "      % str(pca.explained_variance_ratio_))\n",
    "target_names = y_train.unique()\n",
    "plt.figure()\n",
    "for target_name in target_names:\n",
    "    plt.scatter(X_red[y_train == target_name, 0], X_red[y_train == target_name, 1],\n",
    "                label=target_name)\n",
    "plt.xlabel('component_1')\n",
    "plt.ylabel('component_2')"
   ]
  },
  {
   "cell_type": "code",
   "execution_count": 13,
   "metadata": {
    "collapsed": true
   },
   "outputs": [],
   "source": [
    "# feature selection:\n",
    "sb = SelectKBest(k=20)\n",
    "X_new = sb.fit_transform(x_train, y_train)\n",
    "X_new.shape\n",
    "rem_nodes =list(sb.get_support())"
   ]
  },
  {
   "cell_type": "code",
   "execution_count": 14,
   "metadata": {},
   "outputs": [
    {
     "name": "stdout",
     "output_type": "stream",
     "text": [
      "Explained variance ratio: [ 0.4136075   0.16244019  0.06212577  0.03848466]\n",
      "Total explained: 0.676658124772\n",
      "Components: [[-0.25887721 -0.26866026 -0.30586788 -0.20227592 -0.16074124 -0.10080948\n",
      "  -0.12702536 -0.3080107  -0.2334691  -0.29329291 -0.24415398 -0.31842183\n",
      "  -0.22390325 -0.27998675 -0.2683667   0.14203213  0.11867977  0.11470121\n",
      "   0.12124204  0.12302476]\n",
      " [-0.05916879 -0.08227232 -0.10735057 -0.01699478 -0.0072407   0.01105903\n",
      "   0.01253836 -0.13142853 -0.07491396 -0.05833342 -0.09823384 -0.11979838\n",
      "  -0.10216857 -0.05528682 -0.05826529 -0.40397168 -0.42888405 -0.41207124\n",
      "  -0.3937333  -0.48830561]\n",
      " [-0.18447264 -0.1417448   0.06280744 -0.36292562 -0.27607755 -0.32346093\n",
      "  -0.36108792  0.36989039  0.02431505 -0.1995182   0.30891546  0.2776406\n",
      "   0.31417821 -0.14718831 -0.09006781 -0.08989634 -0.04810116 -0.06776494\n",
      "  -0.0739218   0.0179266 ]\n",
      " [ 0.3485815   0.33447307  0.04462795  0.05798687 -0.03289122  0.03403721\n",
      "  -0.01050542 -0.06118468 -0.10068425 -0.17102843  0.488886    0.15982689\n",
      "  -0.48214461 -0.24707116 -0.39260206  0.02450385 -0.01579696 -0.03816513\n",
      "  -0.02416005  0.0263412 ]]\n"
     ]
    }
   ],
   "source": [
    "#dimensionality reduction with PCA -  not really useful due to lack of linearity\n",
    "pca = PCA(n_components=4)\n",
    "X_red = pca.fit(X_new).transform(X_new)\n",
    "\n",
    "target_names = y.unique()\n",
    "# Percentage of variance explained for each components\n",
    "print('Explained variance ratio: %s'\n",
    "      % str(pca.explained_variance_ratio_))\n",
    "# Percentage of total variance explained\n",
    "print('Total explained: %s'\n",
    "      % str(sum(pca.explained_variance_ratio_)))\n",
    "# Components\n",
    "print('Components: %s'\n",
    "      % str(pca.components_))"
   ]
  },
  {
   "cell_type": "markdown",
   "metadata": {},
   "source": [
    "#### Model training\n",
    "Potential prediction techniques: \n",
    "Naive Bayesian, Nearest neighbour calssification, Decision trees, random forest, SVM, Neural networks\n",
    "\n",
    "Some drawbacks of the above different models:\n",
    "- Since naive Bayes assumes independence between features, it is not used in thi problem. \n",
    "- The class distribution is skewed so the kNN classification might be biased. \n",
    "- Decision trees can be too complex for large datasets and thus not generalizing well, and they are not very robust. \n",
    "- The problem with SVM models is that they tend to break down a multiclass classification to binary classification problems, which in this case is not too scaleable and also SVM can be subject to overfitting. \n",
    "- Finding right parameters for a neural network requires more experience."
   ]
  },
  {
   "cell_type": "code",
   "execution_count": 15,
   "metadata": {},
   "outputs": [],
   "source": [
    "#decision tree learning\n",
    "start_time = time.time()\n",
    "clf_tree = tree.DecisionTreeClassifier()\n",
    "clf_tree = clf_tree.fit(x_train, y_train)\n",
    "pred_tree = clf_tree.predict(x_valid)\n",
    "probs_tree = clf_tree.predict_proba(x_valid)\n",
    "elapsed_time = time.time() - start_time\n",
    "print(\"Elapsed time for decision tree: \" + elapsed_time)"
   ]
  },
  {
   "cell_type": "code",
   "execution_count": 16,
   "metadata": {
    "collapsed": true
   },
   "outputs": [],
   "source": [
    "#random forest\n",
    "start_time = time.time()\n",
    "clf_forest = RandomForestClassifier(n_estimators=10)\n",
    "clf_forest = clf_forest.fit(x_train, y_train)\n",
    "pred_forest = clf_forest.predict(x_valid)\n",
    "probs_forest = clf_forest.predict_proba(x_valid)\n",
    "elapsed_time = time.time() - start_time\n",
    "print(\"Elapsed time ofr random forest: \" + elapsed_time)"
   ]
  },
  {
   "cell_type": "code",
   "execution_count": 17,
   "metadata": {
    "collapsed": true
   },
   "outputs": [],
   "source": [
    "#kNN classification model: all features are equally weighted (curse of dimensionality)\n",
    "k_neighbors=15\n",
    "start_time = time.time()\n",
    "clf_knn = neighbors.KNeighborsClassifier(k_neighbors, n_jobs=-1)\n",
    "clf_knn = clf_knn.fit(x_train, y_train)\n",
    "pred_knn = clf_knn.predict(x_valid)\n",
    "elapsed_time = time.time() - start_time\n",
    "print(\"Elapsed time for knn: \" + elapsed_time)\n",
    "#probs_knn = clf_knn.predict_proba(x_valid)"
   ]
  },
  {
   "cell_type": "code",
   "execution_count": null,
   "metadata": {},
   "outputs": [],
   "source": [
    "#SVM\n",
    "#linear\n",
    "start_time = time.time()\n",
    "clf_linsvm = svm.LinearSVC(multi_class='crammer_singer', C=10)\n",
    "clf_linsvm = clf_linsvm.fit(x_train, y_train)\n",
    "pred_linsvm = clf_linsvm.predict(x_valid)\n",
    "elapsed_time = time.time() - start_time\n",
    "print(\"Elapsed time for linear SVM: \" + elapsed_time)"
   ]
  },
  {
   "cell_type": "code",
   "execution_count": 26,
   "metadata": {},
   "outputs": [
    {
     "ename": "KeyboardInterrupt",
     "evalue": "",
     "output_type": "error",
     "traceback": [
      "\u001b[0;31m---------------------------------------------------------------------------\u001b[0m",
      "\u001b[0;31mKeyboardInterrupt\u001b[0m                         Traceback (most recent call last)",
      "\u001b[0;32m<ipython-input-26-a02ef75160f3>\u001b[0m in \u001b[0;36m<module>\u001b[0;34m()\u001b[0m\n\u001b[1;32m      3\u001b[0m \u001b[0mclf_svm\u001b[0m \u001b[0;34m=\u001b[0m \u001b[0msvm\u001b[0m\u001b[0;34m.\u001b[0m\u001b[0mSVC\u001b[0m\u001b[0;34m(\u001b[0m\u001b[0mdecision_function_shape\u001b[0m\u001b[0;34m=\u001b[0m\u001b[0;34m'ovo'\u001b[0m\u001b[0;34m)\u001b[0m\u001b[0;34m\u001b[0m\u001b[0m\n\u001b[1;32m      4\u001b[0m \u001b[0mclf_svm\u001b[0m \u001b[0;34m=\u001b[0m \u001b[0mclf_svm\u001b[0m\u001b[0;34m.\u001b[0m\u001b[0mfit\u001b[0m\u001b[0;34m(\u001b[0m\u001b[0mx_train\u001b[0m\u001b[0;34m,\u001b[0m \u001b[0my_train\u001b[0m\u001b[0;34m)\u001b[0m\u001b[0;34m\u001b[0m\u001b[0m\n\u001b[0;32m----> 5\u001b[0;31m \u001b[0mpred_svm\u001b[0m \u001b[0;34m=\u001b[0m \u001b[0mclf_svm\u001b[0m\u001b[0;34m.\u001b[0m\u001b[0mpredict\u001b[0m\u001b[0;34m(\u001b[0m\u001b[0mx_valid\u001b[0m\u001b[0;34m)\u001b[0m\u001b[0;34m\u001b[0m\u001b[0m\n\u001b[0m",
      "\u001b[0;32m~/anaconda3/lib/python3.6/site-packages/sklearn/svm/base.py\u001b[0m in \u001b[0;36mpredict\u001b[0;34m(self, X)\u001b[0m\n\u001b[1;32m    546\u001b[0m             \u001b[0mClass\u001b[0m \u001b[0mlabels\u001b[0m \u001b[0;32mfor\u001b[0m \u001b[0msamples\u001b[0m \u001b[0;32min\u001b[0m \u001b[0mX\u001b[0m\u001b[0;34m.\u001b[0m\u001b[0;34m\u001b[0m\u001b[0m\n\u001b[1;32m    547\u001b[0m         \"\"\"\n\u001b[0;32m--> 548\u001b[0;31m         \u001b[0my\u001b[0m \u001b[0;34m=\u001b[0m \u001b[0msuper\u001b[0m\u001b[0;34m(\u001b[0m\u001b[0mBaseSVC\u001b[0m\u001b[0;34m,\u001b[0m \u001b[0mself\u001b[0m\u001b[0;34m)\u001b[0m\u001b[0;34m.\u001b[0m\u001b[0mpredict\u001b[0m\u001b[0;34m(\u001b[0m\u001b[0mX\u001b[0m\u001b[0;34m)\u001b[0m\u001b[0;34m\u001b[0m\u001b[0m\n\u001b[0m\u001b[1;32m    549\u001b[0m         \u001b[0;32mreturn\u001b[0m \u001b[0mself\u001b[0m\u001b[0;34m.\u001b[0m\u001b[0mclasses_\u001b[0m\u001b[0;34m.\u001b[0m\u001b[0mtake\u001b[0m\u001b[0;34m(\u001b[0m\u001b[0mnp\u001b[0m\u001b[0;34m.\u001b[0m\u001b[0masarray\u001b[0m\u001b[0;34m(\u001b[0m\u001b[0my\u001b[0m\u001b[0;34m,\u001b[0m \u001b[0mdtype\u001b[0m\u001b[0;34m=\u001b[0m\u001b[0mnp\u001b[0m\u001b[0;34m.\u001b[0m\u001b[0mintp\u001b[0m\u001b[0;34m)\u001b[0m\u001b[0;34m)\u001b[0m\u001b[0;34m\u001b[0m\u001b[0m\n\u001b[1;32m    550\u001b[0m \u001b[0;34m\u001b[0m\u001b[0m\n",
      "\u001b[0;32m~/anaconda3/lib/python3.6/site-packages/sklearn/svm/base.py\u001b[0m in \u001b[0;36mpredict\u001b[0;34m(self, X)\u001b[0m\n\u001b[1;32m    308\u001b[0m         \u001b[0mX\u001b[0m \u001b[0;34m=\u001b[0m \u001b[0mself\u001b[0m\u001b[0;34m.\u001b[0m\u001b[0m_validate_for_predict\u001b[0m\u001b[0;34m(\u001b[0m\u001b[0mX\u001b[0m\u001b[0;34m)\u001b[0m\u001b[0;34m\u001b[0m\u001b[0m\n\u001b[1;32m    309\u001b[0m         \u001b[0mpredict\u001b[0m \u001b[0;34m=\u001b[0m \u001b[0mself\u001b[0m\u001b[0;34m.\u001b[0m\u001b[0m_sparse_predict\u001b[0m \u001b[0;32mif\u001b[0m \u001b[0mself\u001b[0m\u001b[0;34m.\u001b[0m\u001b[0m_sparse\u001b[0m \u001b[0;32melse\u001b[0m \u001b[0mself\u001b[0m\u001b[0;34m.\u001b[0m\u001b[0m_dense_predict\u001b[0m\u001b[0;34m\u001b[0m\u001b[0m\n\u001b[0;32m--> 310\u001b[0;31m         \u001b[0;32mreturn\u001b[0m \u001b[0mpredict\u001b[0m\u001b[0;34m(\u001b[0m\u001b[0mX\u001b[0m\u001b[0;34m)\u001b[0m\u001b[0;34m\u001b[0m\u001b[0m\n\u001b[0m\u001b[1;32m    311\u001b[0m \u001b[0;34m\u001b[0m\u001b[0m\n\u001b[1;32m    312\u001b[0m     \u001b[0;32mdef\u001b[0m \u001b[0m_dense_predict\u001b[0m\u001b[0;34m(\u001b[0m\u001b[0mself\u001b[0m\u001b[0;34m,\u001b[0m \u001b[0mX\u001b[0m\u001b[0;34m)\u001b[0m\u001b[0;34m:\u001b[0m\u001b[0;34m\u001b[0m\u001b[0m\n",
      "\u001b[0;32m~/anaconda3/lib/python3.6/site-packages/sklearn/svm/base.py\u001b[0m in \u001b[0;36m_dense_predict\u001b[0;34m(self, X)\u001b[0m\n\u001b[1;32m    331\u001b[0m             \u001b[0mself\u001b[0m\u001b[0;34m.\u001b[0m\u001b[0mprobA_\u001b[0m\u001b[0;34m,\u001b[0m \u001b[0mself\u001b[0m\u001b[0;34m.\u001b[0m\u001b[0mprobB_\u001b[0m\u001b[0;34m,\u001b[0m \u001b[0msvm_type\u001b[0m\u001b[0;34m=\u001b[0m\u001b[0msvm_type\u001b[0m\u001b[0;34m,\u001b[0m \u001b[0mkernel\u001b[0m\u001b[0;34m=\u001b[0m\u001b[0mkernel\u001b[0m\u001b[0;34m,\u001b[0m\u001b[0;34m\u001b[0m\u001b[0m\n\u001b[1;32m    332\u001b[0m             \u001b[0mdegree\u001b[0m\u001b[0;34m=\u001b[0m\u001b[0mself\u001b[0m\u001b[0;34m.\u001b[0m\u001b[0mdegree\u001b[0m\u001b[0;34m,\u001b[0m \u001b[0mcoef0\u001b[0m\u001b[0;34m=\u001b[0m\u001b[0mself\u001b[0m\u001b[0;34m.\u001b[0m\u001b[0mcoef0\u001b[0m\u001b[0;34m,\u001b[0m \u001b[0mgamma\u001b[0m\u001b[0;34m=\u001b[0m\u001b[0mself\u001b[0m\u001b[0;34m.\u001b[0m\u001b[0m_gamma\u001b[0m\u001b[0;34m,\u001b[0m\u001b[0;34m\u001b[0m\u001b[0m\n\u001b[0;32m--> 333\u001b[0;31m             cache_size=self.cache_size)\n\u001b[0m\u001b[1;32m    334\u001b[0m \u001b[0;34m\u001b[0m\u001b[0m\n\u001b[1;32m    335\u001b[0m     \u001b[0;32mdef\u001b[0m \u001b[0m_sparse_predict\u001b[0m\u001b[0;34m(\u001b[0m\u001b[0mself\u001b[0m\u001b[0;34m,\u001b[0m \u001b[0mX\u001b[0m\u001b[0;34m)\u001b[0m\u001b[0;34m:\u001b[0m\u001b[0;34m\u001b[0m\u001b[0m\n",
      "\u001b[0;31mKeyboardInterrupt\u001b[0m: "
     ]
    }
   ],
   "source": [
    "#SVM\n",
    "#RBF\n",
    "start_time = time.time()\n",
    "clf_svm = svm.SVC(C=10, decision_function_shape='ovo')\n",
    "clf_svm = clf_svm.fit(x_train, y_train)\n",
    "pred_svm = clf_svm.predict(x_valid)\n",
    "elapsed_time = time.time() - start_time\n",
    "print(\"Elapsed time for RBF SVM: \" + elapsed_time)"
   ]
  },
  {
   "cell_type": "markdown",
   "metadata": {},
   "source": [
    "#### Model selection\n",
    "Model validation metrics: accuracy, precision, f1 score, recall, Mean Absolute Error, Hamming loss\n",
    "\n",
    "Selected models:\n",
    "- Decision trees\n",
    "- SVM linear\n",
    "- SVM RBF"
   ]
  },
  {
   "cell_type": "code",
   "execution_count": 29,
   "metadata": {},
   "outputs": [
    {
     "name": "stdout",
     "output_type": "stream",
     "text": [
      "             precision    recall  f1-score   support\n",
      "\n",
      "         19       0.50      0.25      0.33         4\n",
      "         20       0.60      1.00      0.75         3\n",
      "         21       0.67      0.57      0.62        14\n",
      "         25       0.63      0.50      0.56        24\n",
      "         27       0.43      0.52      0.47        23\n",
      "         29       0.50      0.50      0.50         2\n",
      "         34       0.33      0.32      0.32        41\n",
      "         35       0.40      0.42      0.41        52\n",
      "         42       0.76      0.75      0.75       273\n",
      "         45       0.80      0.82      0.81       276\n",
      "         46       0.87      0.85      0.86       240\n",
      "         47       0.87      0.83      0.85       143\n",
      "         53       0.63      0.62      0.63       373\n",
      "         63       0.28      0.35      0.31       296\n",
      "         68       0.29      0.26      0.28       326\n",
      "         69       0.39      0.38      0.38       168\n",
      "         70       0.39      0.37      0.38       196\n",
      "         71       0.39      0.39      0.39       284\n",
      "         82       0.28      0.30      0.29       113\n",
      "         89       0.67      0.70      0.68       233\n",
      "         97       0.60      0.60      0.60       258\n",
      "         98       0.58      0.58      0.58       219\n",
      "         99       0.68      0.62      0.65       239\n",
      "        100       0.65      0.60      0.62       234\n",
      "        101       0.50      0.49      0.50       219\n",
      "        102       0.55      0.42      0.47       235\n",
      "        103       0.41      0.49      0.44       237\n",
      "        104       0.32      0.34      0.33       225\n",
      "        105       0.27      0.28      0.27       247\n",
      "        106       0.39      0.38      0.38       221\n",
      "        107       0.50      0.55      0.52       206\n",
      "        108       0.36      0.39      0.37       205\n",
      "        109       0.32      0.30      0.31       244\n",
      "        110       0.45      0.43      0.44       243\n",
      "        111       0.37      0.41      0.39       251\n",
      "        112       0.47      0.51      0.49       182\n",
      "        113       0.58      0.52      0.55       229\n",
      "        114       0.45      0.49      0.47       214\n",
      "        115       0.59      0.55      0.57       190\n",
      "        116       0.53      0.49      0.51       189\n",
      "        117       0.56      0.54      0.55       194\n",
      "        118       0.64      0.80      0.71       226\n",
      "        119       0.37      0.40      0.38       263\n",
      "        120       0.40      0.40      0.40       290\n",
      "        121       0.47      0.49      0.48       304\n",
      "        122       0.47      0.45      0.46       328\n",
      "        123       0.52      0.44      0.48       212\n",
      "        124       0.39      0.36      0.37       203\n",
      "        125       0.34      0.29      0.32       199\n",
      "        126       0.38      0.37      0.37       190\n",
      "        127       0.41      0.46      0.43       171\n",
      "        128       0.39      0.46      0.42       175\n",
      "        129       0.55      0.56      0.56       183\n",
      "        130       0.31      0.33      0.32       225\n",
      "        131       0.42      0.34      0.38       216\n",
      "        132       0.41      0.37      0.39       299\n",
      "        133       0.53      0.54      0.53       287\n",
      "        134       0.38      0.38      0.38       497\n",
      "        135       0.33      0.33      0.33       285\n",
      "        136       0.36      0.42      0.39       326\n",
      "        137       0.57      0.50      0.53       299\n",
      "        138       0.34      0.39      0.36       271\n",
      "        139       0.33      0.35      0.34       272\n",
      "        140       0.29      0.28      0.28       302\n",
      "        141       0.40      0.37      0.39       283\n",
      "        142       0.40      0.37      0.39       268\n",
      "        143       0.39      0.36      0.38       275\n",
      "        144       0.45      0.43      0.44       341\n",
      "        145       0.35      0.37      0.36       197\n",
      "        146       0.73      0.76      0.75       637\n",
      "        148       0.28      0.28      0.28       206\n",
      "        149       0.38      0.35      0.36       228\n",
      "        150       0.33      0.32      0.32       228\n",
      "        151       0.31      0.34      0.32       220\n",
      "        152       0.55      0.50      0.52       209\n",
      "        153       0.43      0.39      0.41       197\n",
      "        154       0.35      0.35      0.35       209\n",
      "        155       0.50      0.45      0.47       235\n",
      "        156       0.35      0.37      0.36       176\n",
      "        157       0.48      0.52      0.50       264\n",
      "        158       0.53      0.56      0.54       174\n",
      "        159       0.66      0.63      0.65       324\n",
      "        160       0.43      0.37      0.40       180\n",
      "        161       0.51      0.50      0.50       282\n",
      "        162       0.34      0.30      0.31       169\n",
      "        163       0.46      0.45      0.46       173\n",
      "        164       0.60      0.67      0.63       170\n",
      "        165       0.69      0.70      0.69       203\n",
      "        166       0.69      0.70      0.69       268\n",
      "        167       0.68      0.71      0.69       206\n",
      "        168       0.51      0.54      0.52       188\n",
      "        169       0.44      0.44      0.44       214\n",
      "        170       0.50      0.53      0.51       173\n",
      "        171       0.45      0.41      0.43       168\n",
      "        172       0.36      0.37      0.36       161\n",
      "        173       0.47      0.55      0.51        31\n",
      "\n",
      "avg / total       0.47      0.47      0.47     21045\n",
      "\n",
      "             precision    recall  f1-score   support\n",
      "\n",
      "         19       0.33      0.25      0.29         4\n",
      "         20       0.33      0.33      0.33         3\n",
      "         21       0.58      0.50      0.54        14\n",
      "         25       0.67      0.67      0.67        24\n",
      "         27       0.60      0.52      0.56        23\n",
      "         29       0.00      0.00      0.00         2\n",
      "         34       0.42      0.39      0.41        41\n",
      "         35       0.43      0.42      0.43        52\n",
      "         42       0.72      0.89      0.80       273\n",
      "         45       0.77      0.92      0.84       276\n",
      "         46       0.91      0.95      0.93       240\n",
      "         47       0.91      0.93      0.92       143\n",
      "         53       0.63      0.76      0.69       373\n",
      "         63       0.31      0.53      0.39       296\n",
      "         68       0.38      0.42      0.40       326\n",
      "         69       0.48      0.48      0.48       168\n",
      "         70       0.43      0.48      0.45       196\n",
      "         71       0.52      0.49      0.51       284\n",
      "         82       0.36      0.44      0.40       113\n",
      "         89       0.70      0.85      0.77       233\n",
      "         97       0.65      0.62      0.64       258\n",
      "         98       0.62      0.60      0.61       219\n",
      "         99       0.68      0.69      0.69       239\n",
      "        100       0.66      0.76      0.70       234\n",
      "        101       0.49      0.53      0.51       219\n",
      "        102       0.61      0.58      0.59       235\n",
      "        103       0.49      0.64      0.56       237\n",
      "        104       0.39      0.53      0.45       225\n",
      "        105       0.38      0.41      0.40       247\n",
      "        106       0.48      0.49      0.49       221\n",
      "        107       0.64      0.63      0.64       206\n",
      "        108       0.50      0.40      0.44       205\n",
      "        109       0.30      0.34      0.32       244\n",
      "        110       0.38      0.41      0.39       243\n",
      "        111       0.42      0.43      0.43       251\n",
      "        112       0.57      0.63      0.60       182\n",
      "        113       0.63      0.53      0.57       229\n",
      "        114       0.48      0.48      0.48       214\n",
      "        115       0.60      0.61      0.60       190\n",
      "        116       0.63      0.56      0.59       189\n",
      "        117       0.52      0.70      0.59       194\n",
      "        118       0.76      0.89      0.82       226\n",
      "        119       0.41      0.49      0.45       263\n",
      "        120       0.41      0.44      0.43       290\n",
      "        121       0.62      0.63      0.62       304\n",
      "        122       0.53      0.59      0.56       328\n",
      "        123       0.57      0.64      0.60       212\n",
      "        124       0.56      0.45      0.50       203\n",
      "        125       0.43      0.35      0.39       199\n",
      "        126       0.44      0.36      0.40       190\n",
      "        127       0.50      0.61      0.55       171\n",
      "        128       0.56      0.58      0.57       175\n",
      "        129       0.56      0.60      0.58       183\n",
      "        130       0.44      0.41      0.43       225\n",
      "        131       0.61      0.44      0.51       216\n",
      "        132       0.58      0.47      0.52       299\n",
      "        133       0.52      0.53      0.52       287\n",
      "        134       0.47      0.55      0.51       497\n",
      "        135       0.55      0.47      0.51       285\n",
      "        136       0.49      0.48      0.49       326\n",
      "        137       0.59      0.58      0.59       299\n",
      "        138       0.39      0.46      0.43       271\n",
      "        139       0.40      0.37      0.38       272\n",
      "        140       0.40      0.34      0.37       302\n",
      "        141       0.45      0.47      0.46       283\n",
      "        142       0.52      0.54      0.53       268\n",
      "        143       0.47      0.37      0.42       275\n",
      "        144       0.57      0.39      0.46       341\n",
      "        145       0.61      0.48      0.54       197\n",
      "        146       0.77      0.88      0.82       637\n",
      "        148       0.39      0.32      0.35       206\n",
      "        149       0.47      0.36      0.41       228\n",
      "        150       0.50      0.48      0.49       228\n",
      "        151       0.45      0.33      0.38       220\n",
      "        152       0.59      0.53      0.56       209\n",
      "        153       0.50      0.42      0.46       197\n",
      "        154       0.58      0.40      0.47       209\n",
      "        155       0.70      0.56      0.62       235\n",
      "        156       0.45      0.45      0.45       176\n",
      "        157       0.52      0.53      0.53       264\n",
      "        158       0.68      0.55      0.61       174\n",
      "        159       0.64      0.59      0.61       324\n",
      "        160       0.59      0.54      0.56       180\n",
      "        161       0.75      0.60      0.67       282\n",
      "        162       0.49      0.37      0.42       169\n",
      "        163       0.61      0.54      0.58       173\n",
      "        164       0.65      0.71      0.68       170\n",
      "        165       0.75      0.68      0.72       203\n",
      "        166       0.80      0.78      0.79       268\n",
      "        167       0.81      0.81      0.81       206\n",
      "        168       0.67      0.55      0.60       188\n",
      "        169       0.62      0.48      0.54       214\n",
      "        170       0.74      0.71      0.73       173\n",
      "        171       0.60      0.48      0.54       168\n",
      "        172       0.54      0.37      0.44       161\n",
      "        173       0.38      0.29      0.33        31\n",
      "\n",
      "avg / total       0.56      0.55      0.55     21045\n",
      "\n",
      "             precision    recall  f1-score   support\n",
      "\n",
      "         19       0.50      0.25      0.33         4\n",
      "         20       0.00      0.00      0.00         3\n",
      "         21       1.00      0.07      0.13        14\n",
      "         25       1.00      0.08      0.15        24\n",
      "         27       0.71      0.22      0.33        23\n",
      "         29       0.00      0.00      0.00         2\n",
      "         34       0.42      0.20      0.27        41\n",
      "         35       0.39      0.42      0.40        52\n",
      "         42       0.60      0.56      0.58       273\n",
      "         45       0.68      0.69      0.69       276\n",
      "         46       0.65      0.67      0.66       240\n",
      "         47       0.84      0.90      0.87       143\n",
      "         53       0.60      0.54      0.57       373\n",
      "         63       0.29      0.42      0.34       296\n",
      "         68       0.32      0.34      0.33       326\n",
      "         69       0.41      0.18      0.26       168\n",
      "         70       0.45      0.26      0.33       196\n",
      "         71       0.43      0.31      0.36       284\n",
      "         82       0.44      0.17      0.24       113\n",
      "         89       0.69      0.73      0.71       233\n",
      "         97       0.52      0.45      0.48       258\n",
      "         98       0.61      0.43      0.50       219\n",
      "         99       0.56      0.71      0.63       239\n",
      "        100       0.60      0.72      0.65       234\n",
      "        101       0.44      0.52      0.48       219\n",
      "        102       0.46      0.60      0.52       235\n",
      "        103       0.42      0.46      0.44       237\n",
      "        104       0.47      0.42      0.44       225\n",
      "        105       0.44      0.23      0.30       247\n",
      "        106       0.26      0.58      0.36       221\n",
      "        107       0.47      0.49      0.48       206\n",
      "        108       0.31      0.28      0.30       205\n",
      "        109       0.33      0.37      0.35       244\n",
      "        110       0.38      0.35      0.37       243\n",
      "        111       0.41      0.31      0.36       251\n",
      "        112       0.47      0.55      0.51       182\n",
      "        113       0.49      0.45      0.47       229\n",
      "        114       0.43      0.38      0.41       214\n",
      "        115       0.43      0.54      0.48       190\n",
      "        116       0.64      0.50      0.56       189\n",
      "        117       0.44      0.59      0.51       194\n",
      "        118       0.74      0.62      0.67       226\n",
      "        119       0.28      0.46      0.35       263\n",
      "        120       0.35      0.34      0.34       290\n",
      "        121       0.55      0.52      0.54       304\n",
      "        122       0.45      0.53      0.49       328\n",
      "        123       0.51      0.50      0.50       212\n",
      "        124       0.44      0.37      0.40       203\n",
      "        125       0.44      0.42      0.43       199\n",
      "        126       0.51      0.30      0.38       190\n",
      "        127       0.41      0.47      0.44       171\n",
      "        128       0.40      0.42      0.41       175\n",
      "        129       0.39      0.50      0.44       183\n",
      "        130       0.36      0.30      0.33       225\n",
      "        131       0.43      0.29      0.35       216\n",
      "        132       0.54      0.44      0.49       299\n",
      "        133       0.50      0.56      0.53       287\n",
      "        134       0.40      0.48      0.44       497\n",
      "        135       0.40      0.41      0.40       285\n",
      "        136       0.40      0.43      0.41       326\n",
      "        137       0.49      0.46      0.48       299\n",
      "        138       0.33      0.32      0.33       271\n",
      "        139       0.34      0.36      0.35       272\n",
      "        140       0.32      0.29      0.31       302\n",
      "        141       0.35      0.44      0.39       283\n",
      "        142       0.43      0.50      0.47       268\n",
      "        143       0.30      0.34      0.32       275\n",
      "        144       0.40      0.49      0.44       341\n",
      "        145       0.28      0.23      0.25       197\n",
      "        146       0.54      0.78      0.64       637\n",
      "        148       0.29      0.18      0.23       206\n",
      "        149       0.35      0.31      0.33       228\n",
      "        150       0.41      0.49      0.45       228\n",
      "        151       0.33      0.21      0.26       220\n",
      "        152       0.41      0.37      0.39       209\n",
      "        153       0.31      0.37      0.34       197\n",
      "        154       0.40      0.22      0.29       209\n",
      "        155       0.69      0.30      0.42       235\n",
      "        156       0.40      0.35      0.37       176\n",
      "        157       0.46      0.48      0.47       264\n",
      "        158       0.46      0.39      0.42       174\n",
      "        159       0.49      0.39      0.43       324\n",
      "        160       0.35      0.44      0.39       180\n",
      "        161       0.63      0.42      0.51       282\n",
      "        162       0.36      0.31      0.33       169\n",
      "        163       0.49      0.38      0.43       173\n",
      "        164       0.48      0.59      0.53       170\n",
      "        165       0.51      0.60      0.55       203\n",
      "        166       0.57      0.75      0.65       268\n",
      "        167       0.64      0.49      0.55       206\n",
      "        168       0.41      0.26      0.32       188\n",
      "        169       0.49      0.48      0.48       214\n",
      "        170       0.60      0.58      0.59       173\n",
      "        171       0.39      0.41      0.40       168\n",
      "        172       0.38      0.30      0.34       161\n",
      "        173       0.75      0.10      0.17        31\n",
      "\n",
      "avg / total       0.46      0.45      0.44     21045\n",
      "\n",
      "             precision    recall  f1-score   support\n",
      "\n",
      "         19       0.04      0.25      0.07         4\n",
      "         20       0.11      1.00      0.19         3\n",
      "         21       0.00      0.00      0.00        14\n",
      "         25       0.38      0.12      0.19        24\n",
      "         27       0.14      0.74      0.23        23\n",
      "         29       0.00      0.00      0.00         2\n",
      "         34       0.25      0.29      0.27        41\n",
      "         35       0.14      0.02      0.03        52\n",
      "         42       0.78      0.12      0.20       273\n",
      "         45       0.61      0.62      0.61       276\n",
      "         46       0.53      0.38      0.44       240\n",
      "         47       0.90      0.18      0.30       143\n",
      "         53       0.65      0.34      0.45       373\n",
      "         63       0.03      0.00      0.01       296\n",
      "         68       0.21      0.01      0.02       326\n",
      "         69       0.38      0.27      0.31       168\n",
      "         70       0.30      0.08      0.13       196\n",
      "         71       0.27      0.36      0.31       284\n",
      "         82       0.35      0.07      0.12       113\n",
      "         89       0.50      0.59      0.54       233\n",
      "         97       0.31      0.50      0.38       258\n",
      "         98       0.48      0.12      0.20       219\n",
      "         99       0.53      0.62      0.57       239\n",
      "        100       0.41      0.11      0.18       234\n",
      "        101       0.37      0.65      0.47       219\n",
      "        102       0.09      0.00      0.01       235\n",
      "        103       0.26      0.32      0.29       237\n",
      "        104       0.18      0.41      0.25       225\n",
      "        105       0.10      0.02      0.04       247\n",
      "        106       0.40      0.13      0.19       221\n",
      "        107       0.28      0.64      0.39       206\n",
      "        108       0.11      0.09      0.10       205\n",
      "        109       0.15      0.39      0.22       244\n",
      "        110       0.26      0.12      0.17       243\n",
      "        111       0.13      0.29      0.18       251\n",
      "        112       0.36      0.02      0.04       182\n",
      "        113       0.53      0.31      0.40       229\n",
      "        114       0.35      0.10      0.16       214\n",
      "        115       0.42      0.56      0.48       190\n",
      "        116       0.63      0.39      0.48       189\n",
      "        117       0.45      0.14      0.21       194\n",
      "        118       0.82      0.35      0.50       226\n",
      "        119       0.10      0.19      0.13       263\n",
      "        120       0.29      0.26      0.27       290\n",
      "        121       0.46      0.36      0.40       304\n",
      "        122       0.32      0.03      0.05       328\n",
      "        123       0.52      0.05      0.09       212\n",
      "        124       0.35      0.12      0.18       203\n",
      "        125       0.21      0.13      0.16       199\n",
      "        126       0.28      0.38      0.32       190\n",
      "        127       0.60      0.16      0.25       171\n",
      "        128       0.12      0.65      0.21       175\n",
      "        129       0.23      0.15      0.18       183\n",
      "        130       0.27      0.12      0.17       225\n",
      "        131       0.00      0.00      0.00       216\n",
      "        132       0.22      0.04      0.07       299\n",
      "        133       0.50      0.10      0.17       287\n",
      "        134       0.15      0.81      0.25       497\n",
      "        135       0.11      0.01      0.01       285\n",
      "        136       0.20      0.52      0.29       326\n",
      "        137       0.25      0.00      0.01       299\n",
      "        138       0.22      0.24      0.23       271\n",
      "        139       0.14      0.14      0.14       272\n",
      "        140       0.16      0.30      0.21       302\n",
      "        141       0.60      0.13      0.22       283\n",
      "        142       0.36      0.16      0.22       268\n",
      "        143       0.19      0.16      0.17       275\n",
      "        144       0.20      0.02      0.04       341\n",
      "        145       0.29      0.03      0.06       197\n",
      "        146       0.37      0.05      0.09       637\n",
      "        148       0.22      0.12      0.15       206\n",
      "        149       0.00      0.00      0.00       228\n",
      "        150       0.22      0.43      0.29       228\n",
      "        151       0.15      0.24      0.18       220\n",
      "        152       0.11      0.08      0.09       209\n",
      "        153       0.15      0.01      0.02       197\n",
      "        154       0.13      0.35      0.19       209\n",
      "        155       0.46      0.19      0.27       235\n",
      "        156       0.25      0.25      0.25       176\n",
      "        157       0.48      0.11      0.17       264\n",
      "        158       0.17      0.53      0.26       174\n",
      "        159       0.44      0.30      0.35       324\n",
      "        160       0.14      0.47      0.21       180\n",
      "        161       0.56      0.37      0.44       282\n",
      "        162       0.29      0.13      0.18       169\n",
      "        163       0.25      0.15      0.19       173\n",
      "        164       0.52      0.22      0.31       170\n",
      "        165       0.61      0.42      0.50       203\n",
      "        166       0.65      0.69      0.67       268\n",
      "        167       0.20      0.80      0.32       206\n",
      "        168       0.29      0.05      0.08       188\n",
      "        169       0.16      0.60      0.26       214\n",
      "        170       0.44      0.39      0.42       173\n",
      "        171       0.42      0.30      0.35       168\n",
      "        172       0.43      0.06      0.10       161\n",
      "        173       0.23      0.10      0.14        31\n",
      "\n",
      "avg / total       0.32      0.25      0.23     21045\n",
      "\n"
     ]
    },
    {
     "name": "stderr",
     "output_type": "stream",
     "text": [
      "/home/julcsi/anaconda3/lib/python3.6/site-packages/sklearn/metrics/classification.py:1135: UndefinedMetricWarning: Precision and F-score are ill-defined and being set to 0.0 in labels with no predicted samples.\n",
      "  'precision', 'predicted', average, warn_for)\n"
     ]
    }
   ],
   "source": [
    "#validation report(precision, recall, f1, support)\n",
    "cr_tree = classification_report(y_valid, pred_tree)\n",
    "cr_forest = classification_report(y_valid, pred_forest)\n",
    "cr_knn = classification_report(y_valid, pred_knn)\n",
    "cr_linsvm = classification_report(y_valid, pred_linsvm)\n",
    "#cr_svm = classification_report(y_valid, pred_svm)\n",
    "\n",
    "reports = [cr_tree, cr_forest, cr_knn, cr_linsvm]\n",
    "for report in reports:    \n",
    "    print(report)"
   ]
  },
  {
   "cell_type": "code",
   "execution_count": 28,
   "metadata": {},
   "outputs": [
    {
     "name": "stdout",
     "output_type": "stream",
     "text": [
      "0.472463768116\n",
      "0.554526015681\n",
      "0.449037776194\n",
      "0.252221430268\n"
     ]
    }
   ],
   "source": [
    "#accuracy\n",
    "acs_tree = accuracy_score(y_valid, pred_tree)\n",
    "acs_forest = accuracy_score(y_valid, pred_forest)\n",
    "acs_knn = accuracy_score(y_valid, pred_knn)\n",
    "acs_linsvm = accuracy_score(y_valid, pred_linsvm)\n",
    "#acs_svm = accuracy_score(y_valid, pred_svm)\n",
    "\n",
    "acses = [acs_tree, acs_forest, acs_knn, acs_linsvm]\n",
    "for acs in acses:    \n",
    "    print(acs)\n"
   ]
  },
  {
   "cell_type": "code",
   "execution_count": 30,
   "metadata": {},
   "outputs": [
    {
     "name": "stdout",
     "output_type": "stream",
     "text": [
      "11.247517225\n",
      "8.83663578047\n",
      "11.2638631504\n",
      "19.4873841768\n"
     ]
    }
   ],
   "source": [
    "#mean absoulte error\n",
    "mas_tree =  mean_absolute_error(y_valid, pred_tree)\n",
    "mas_forest = mean_absolute_error(y_valid, pred_forest)\n",
    "mas_knn = mean_absolute_error(y_valid, pred_knn)\n",
    "mas_linsv = mean_absolute_error(y_valid, pred_linsvm)\n",
    "\n",
    "mases = [mas_tree, mas_forest, mas_knn, mas_linsv]\n",
    "for mas in mases:    \n",
    "    print(mas)"
   ]
  },
  {
   "cell_type": "code",
   "execution_count": 34,
   "metadata": {},
   "outputs": [
    {
     "name": "stdout",
     "output_type": "stream",
     "text": [
      "0.527536231884\n",
      "0.445473984319\n",
      "0.550962223806\n",
      "0.747778569732\n"
     ]
    }
   ],
   "source": [
    "#hamming-loss\n",
    "hl_tree =  hamming_loss(y_valid, pred_tree)\n",
    "hl_forest = hamming_loss(y_valid, pred_forest)\n",
    "hl_knn = hamming_loss(y_valid, pred_knn)\n",
    "hl_linsv = hamming_loss(y_valid, pred_linsvm)\n",
    "\n",
    "hls = [hl_tree, hl_forest, hl_knn, hl_linsv]\n",
    "for hl in hls:    \n",
    "    print(hl)"
   ]
  },
  {
   "cell_type": "markdown",
   "metadata": {},
   "source": [
    "#### Hyper-parameter tuning\n",
    "Due to high dimensionality and large number of labels cross-validation is needed to avoid overfitting.\n",
    "\n",
    "Grid search\n",
    "http://scikit-learn.org/stable/modules/grid_search.html#grid-search\n",
    "\n",
    "Parameters:\n",
    "\n"
   ]
  },
  {
   "cell_type": "code",
   "execution_count": null,
   "metadata": {
    "collapsed": true
   },
   "outputs": [],
   "source": []
  },
  {
   "cell_type": "markdown",
   "metadata": {},
   "source": [
    "### Predict and unkown dataset"
   ]
  },
  {
   "cell_type": "code",
   "execution_count": null,
   "metadata": {
    "collapsed": true
   },
   "outputs": [],
   "source": [
    "test_set = pd.read_csv('test_without_target.csv',index_col='id')\n",
    "test_set['values'] = test_set['values'].apply(lambda x:  ast.literal_eval(x))\n",
    "x_test= preprocess_x_values(test_set['values'])\n",
    "#x_test = x_test[:,rem_nodes]\n",
    "x_test.shape"
   ]
  },
  {
   "cell_type": "code",
   "execution_count": 292,
   "metadata": {
    "collapsed": true
   },
   "outputs": [],
   "source": []
  },
  {
   "cell_type": "markdown",
   "metadata": {},
   "source": [
    "### Submit your solution\n",
    "Please zip the complete folder with your solution and send it back to **alexander.mueller@minodes.com**. We will review it as soon as possible and will come back to you!"
   ]
  }
 ],
 "metadata": {
  "kernelspec": {
   "display_name": "Python 3",
   "language": "python",
   "name": "python3"
  },
  "language_info": {
   "codemirror_mode": {
    "name": "ipython",
    "version": 3
   },
   "file_extension": ".py",
   "mimetype": "text/x-python",
   "name": "python",
   "nbconvert_exporter": "python",
   "pygments_lexer": "ipython3",
   "version": "3.6.2"
  }
 },
 "nbformat": 4,
 "nbformat_minor": 1
}
